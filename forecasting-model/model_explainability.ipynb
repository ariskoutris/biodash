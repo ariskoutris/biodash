{
 "cells": [
  {
   "cell_type": "code",
   "execution_count": 15,
   "metadata": {},
   "outputs": [],
   "source": [
    "import numpy as np\n",
    "import pandas as pd\n",
    "import pickle\n",
    "from darts.models import RegressionModel\n",
    "from darts.explainability.shap_explainer import ShapExplainer\n",
    "from pprint import pprint"
   ]
  },
  {
   "cell_type": "code",
   "execution_count": 16,
   "metadata": {},
   "outputs": [],
   "source": [
    "TARGET_BM = 'Muscle Mass'\n",
    "WEIGHTS_DIR = 'weights/' + TARGET_BM + '/'"
   ]
  },
  {
   "cell_type": "code",
   "execution_count": 17,
   "metadata": {},
   "outputs": [],
   "source": [
    "WEEKS_PER_MONTH = 4.2\n",
    "horizons = [int(np.ceil(WEEKS_PER_MONTH * i)) for i in range(1, 6)]"
   ]
  },
  {
   "cell_type": "code",
   "execution_count": 18,
   "metadata": {},
   "outputs": [],
   "source": [
    "model = RegressionModel.load(WEIGHTS_DIR + \"model.pkl\")\n",
    "preprocess_pipeline = pickle.load(open(WEIGHTS_DIR + 'preprocessor.pkl', 'rb'))\n",
    "scaler = pickle.load(open(WEIGHTS_DIR + 'scaler.pkl', 'rb'))\n",
    "target = pickle.load(open(WEIGHTS_DIR + 'target.pkl', 'rb'))\n",
    "past_cov = pickle.load(open(WEIGHTS_DIR + 'past_cov.pkl', 'rb'))"
   ]
  },
  {
   "cell_type": "markdown",
   "metadata": {},
   "source": [
    "# Explainability"
   ]
  },
  {
   "cell_type": "code",
   "execution_count": 19,
   "metadata": {},
   "outputs": [],
   "source": [
    "shap_explainer = ShapExplainer(model, target, past_cov)"
   ]
  },
  {
   "cell_type": "code",
   "execution_count": 20,
   "metadata": {},
   "outputs": [],
   "source": [
    "def get_shap_values(shap_explainer, target, past_cov, horizons):\n",
    "    \n",
    "    explainability_res = shap_explainer.explain(target, past_cov,  horizons=horizons)\n",
    "    comp_list = explainability_res.get_feature_values(horizons[0]).components.to_list()\n",
    "    drop_comp_list = set([x for x in comp_list if any([x.startswith(y) for y in explainability_res.available_components])])\n",
    "\n",
    "    importances_df = pd.DataFrame([])\n",
    "    for horizon in horizons:\n",
    "        if len(importances_df) == 0:\n",
    "            importances_df = explainability_res.get_explanation(horizon).pd_dataframe().iloc[-1].T\n",
    "        else:\n",
    "            importances_df = pd.concat([importances_df, explainability_res.get_explanation(horizon).pd_dataframe().iloc[-1]], axis=1)\n",
    "            \n",
    "    importances_df.columns = horizons\n",
    "\n",
    "    if isinstance(importances_df, pd.Series):\n",
    "        importances_df = importances_df.to_frame()\n",
    "        importances_df.columns = [horizons[0]]\n",
    "    importances_df.reset_index(inplace=True)\n",
    "    importances_df = importances_df[~importances_df['component'].isin(drop_comp_list)]\n",
    "\n",
    "    importances_df = importances_df.T\n",
    "    importances_df.columns = importances_df.iloc[0]\n",
    "    importances_df = importances_df.drop(importances_df.index[0])\n",
    "    importances_df.columns.name = 'Horizon'\n",
    "\n",
    "    lag_columns = [col for col in importances_df.columns if 'lag-' in col]\n",
    "    prefixes = set(col.rsplit('_', 1)[0] for col in lag_columns)\n",
    "\n",
    "    for prefix in prefixes:\n",
    "        lag_cols = [col for col in lag_columns if col.startswith(prefix)]\n",
    "        importances_df[f'{prefix}'] = importances_df[lag_cols].mean(axis=1)\n",
    "        \n",
    "    importances_df = importances_df.drop(columns=lag_columns)\n",
    "    return importances_df"
   ]
  },
  {
   "cell_type": "code",
   "execution_count": 21,
   "metadata": {},
   "outputs": [],
   "source": [
    "%%capture\n",
    "importances_df = get_shap_values(shap_explainer, target[0], past_cov[0], horizons)"
   ]
  },
  {
   "cell_type": "code",
   "execution_count": 22,
   "metadata": {},
   "outputs": [
    {
     "name": "stdout",
     "output_type": "stream",
     "text": [
      "{'Age_statcov_target_Muscle Mass': {5: 0.00011069872604193194,\n",
      "                                    9: 0.00014040235855990643,\n",
      "                                    13: 0.00011432947319086247,\n",
      "                                    17: 0.00012583146123264685,\n",
      "                                    21: 0.00010252676948056354},\n",
      " 'Gender_statcov_target_Muscle Mass': {5: -1.2954035773837802e-05,\n",
      "                                       9: -0.0005297894030809047,\n",
      "                                       13: 2.0775424782219314e-05,\n",
      "                                       17: 0.001693629771470991,\n",
      "                                       21: 0.003312669992446874},\n",
      " 'avg_calories_per_workout_pastcov': {5: 5.5506726101624736e-05,\n",
      "                                      9: -0.00017984933582810346,\n",
      "                                      13: -2.2135856614887334e-05,\n",
      "                                      17: 0.00015828982578236498,\n",
      "                                      21: 0.00021686791824513147},\n",
      " 'avg_cardio_workouts_pastcov': {5: 0.00018047195507205535,\n",
      "                                 9: 0.00011947568845210247,\n",
      "                                 13: 0.000344330426578221,\n",
      "                                 17: 0.0005320361263334696,\n",
      "                                 21: 0.0005146692716505708},\n",
      " 'avg_duration_per_workout_pastcov': {5: -0.00021793594324767996,\n",
      "                                      9: -7.364740399878272e-05,\n",
      "                                      13: -0.00011671620474377566,\n",
      "                                      17: -0.00018535792388980126,\n",
      "                                      21: -0.00020941248525124185},\n",
      " 'avg_isotonic_workouts_pastcov': {5: 0.0009181379989775283,\n",
      "                                   9: 0.000658193077326113,\n",
      "                                   13: 0.0011845593244667297,\n",
      "                                   17: 0.0014345557017714967,\n",
      "                                   21: 0.001581163508499116},\n",
      " 'avg_metsmin_workout_pastcov': {5: -7.19825615344622e-05,\n",
      "                                 9: -4.702527055202823e-05,\n",
      "                                 13: 2.0612779590793246e-05,\n",
      "                                 17: 7.065472254868471e-05,\n",
      "                                 21: 4.1949331294446596e-05},\n",
      " 'cardio_calories_week_pastcov': {5: -0.0005623888252228962,\n",
      "                                  9: -0.00014646295183846144,\n",
      "                                  13: 0.000106056851745769,\n",
      "                                  17: 0.00022762897121542114,\n",
      "                                  21: 0.0006103521228104401},\n",
      " 'cardio_minutes_week_pastcov': {5: 2.65210997947913e-05,\n",
      "                                 9: -0.00029124752021161517,\n",
      "                                 13: -0.0006393200839416056,\n",
      "                                 17: -0.00039718516575283484,\n",
      "                                 21: -9.625696302131526e-05},\n",
      " 'isotonic_calories_week_pastcov': {5: -0.00256176727637985,\n",
      "                                    9: -0.002601914746151087,\n",
      "                                    13: -0.002694300846380658,\n",
      "                                    17: -0.0031731751822796027,\n",
      "                                    21: -0.0036056054400066782},\n",
      " 'isotonic_minutes_week_pastcov': {5: 0.0023204744170981506,\n",
      "                                   9: 0.0024036125716514973,\n",
      "                                   13: 0.0016634532412888653,\n",
      "                                   17: 0.0014822068896568463,\n",
      "                                   21: 0.0017517705395556638},\n",
      " 'total_calories_week_pastcov': {5: -0.000401484676720138,\n",
      "                                 9: 0.0005259966660525257,\n",
      "                                 13: 0.001708161915517999,\n",
      "                                 17: 0.000739557391251422,\n",
      "                                 21: -0.0007012236139449174},\n",
      " 'total_minutes_week_pastcov': {5: -0.00013478731965309458,\n",
      "                                9: -8.402932844119172e-05,\n",
      "                                13: -0.000921370968876678,\n",
      "                                17: -0.0007114140130768757,\n",
      "                                21: -8.091581285538418e-05}}\n"
     ]
    }
   ],
   "source": [
    "pprint(importances_df.to_dict())"
   ]
  }
 ],
 "metadata": {
  "kernelspec": {
   "display_name": "xai-data",
   "language": "python",
   "name": "python3"
  },
  "language_info": {
   "codemirror_mode": {
    "name": "ipython",
    "version": 3
   },
   "file_extension": ".py",
   "mimetype": "text/x-python",
   "name": "python",
   "nbconvert_exporter": "python",
   "pygments_lexer": "ipython3",
   "version": "3.10.14"
  }
 },
 "nbformat": 4,
 "nbformat_minor": 2
}
