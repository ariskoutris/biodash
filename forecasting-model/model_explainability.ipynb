{
 "cells": [
  {
   "cell_type": "code",
   "execution_count": 3,
   "metadata": {},
   "outputs": [],
   "source": [
    "import numpy as np\n",
    "import pandas as pd\n",
    "import pickle\n",
    "from darts.models import RegressionModel\n",
    "from darts.explainability.shap_explainer import ShapExplainer\n",
    "from pprint import pprint"
   ]
  },
  {
   "cell_type": "code",
   "execution_count": 4,
   "metadata": {},
   "outputs": [],
   "source": [
    "TARGET_BM = 'Weight'\n",
    "WEIGHTS_DIR = 'weights/' + TARGET_BM + '/'"
   ]
  },
  {
   "cell_type": "code",
   "execution_count": 5,
   "metadata": {},
   "outputs": [],
   "source": [
    "WEEKS_PER_MONTH = 4.2\n",
    "horizons = [int(np.ceil(WEEKS_PER_MONTH * i)) for i in range(1, 6)]"
   ]
  },
  {
   "cell_type": "code",
   "execution_count": 6,
   "metadata": {},
   "outputs": [],
   "source": [
    "model = RegressionModel.load(WEIGHTS_DIR + \"model.pkl\")\n",
    "preprocess_pipeline = pickle.load(open(WEIGHTS_DIR + 'preprocessor.pkl', 'rb'))\n",
    "scaler = pickle.load(open(WEIGHTS_DIR + 'scaler.pkl', 'rb'))\n",
    "target = pickle.load(open(WEIGHTS_DIR + 'target.pkl', 'rb'))\n",
    "past_cov = pickle.load(open(WEIGHTS_DIR + 'past_cov.pkl', 'rb'))"
   ]
  },
  {
   "cell_type": "markdown",
   "metadata": {},
   "source": [
    "# Explainability"
   ]
  },
  {
   "cell_type": "code",
   "execution_count": 7,
   "metadata": {},
   "outputs": [],
   "source": [
    "shap_explainer = ShapExplainer(model, target, past_cov)"
   ]
  },
  {
   "cell_type": "code",
   "execution_count": 8,
   "metadata": {},
   "outputs": [],
   "source": [
    "def get_shap_values(shap_explainer, target, past_cov, horizons):\n",
    "    \n",
    "    explainability_res = shap_explainer.explain(target, past_cov,  horizons=horizons)\n",
    "    comp_list = explainability_res.get_feature_values(horizons[0]).components.to_list()\n",
    "    drop_comp_list = set([x for x in comp_list if any([x.startswith(y) for y in explainability_res.available_components])])\n",
    "\n",
    "    importances_df = pd.DataFrame([])\n",
    "    for horizon in horizons:\n",
    "        if len(importances_df) == 0:\n",
    "            importances_df = explainability_res.get_explanation(horizon).pd_dataframe().iloc[-1].T\n",
    "        else:\n",
    "            importances_df = pd.concat([importances_df, explainability_res.get_explanation(horizon).pd_dataframe().iloc[-1]], axis=1)\n",
    "            \n",
    "    importances_df.columns = horizons\n",
    "\n",
    "    if isinstance(importances_df, pd.Series):\n",
    "        importances_df = importances_df.to_frame()\n",
    "        importances_df.columns = [horizons[0]]\n",
    "    importances_df.reset_index(inplace=True)\n",
    "    importances_df = importances_df[~importances_df['component'].isin(drop_comp_list)]\n",
    "\n",
    "    importances_df = importances_df.T\n",
    "    importances_df.columns = importances_df.iloc[0]\n",
    "    importances_df = importances_df.drop(importances_df.index[0])\n",
    "    importances_df.columns.name = 'Horizon'\n",
    "\n",
    "    lag_columns = [col for col in importances_df.columns if 'lag-' in col]\n",
    "    prefixes = set(col.rsplit('_', 1)[0] for col in lag_columns)\n",
    "\n",
    "    for prefix in prefixes:\n",
    "        lag_cols = [col for col in lag_columns if col.startswith(prefix)]\n",
    "        importances_df[f'{prefix}'] = importances_df[lag_cols].mean(axis=1)\n",
    "        \n",
    "    importances_df = importances_df.drop(columns=lag_columns)\n",
    "    return importances_df"
   ]
  },
  {
   "cell_type": "code",
   "execution_count": 9,
   "metadata": {},
   "outputs": [],
   "source": [
    "%%capture\n",
    "importances_df = get_shap_values(shap_explainer, target[0], past_cov[0], horizons)"
   ]
  },
  {
   "cell_type": "code",
   "execution_count": 10,
   "metadata": {},
   "outputs": [
    {
     "name": "stdout",
     "output_type": "stream",
     "text": [
      "{'Age_statcov_target_Weight': {5: -0.00012739568994709258,\n",
      "                               9: -0.0002609015675332967,\n",
      "                               13: -0.0004384671265787639,\n",
      "                               17: -0.0006194160851065907,\n",
      "                               21: -0.0007631538104770167},\n",
      " 'Gender_statcov_target_Weight': {5: 0.00026210597425254295,\n",
      "                                  9: 0.00048445266438664386,\n",
      "                                  13: 0.0008854091982356168,\n",
      "                                  17: 0.0013320266967638734,\n",
      "                                  21: 0.0019220073241742093},\n",
      " 'avg_calories_per_workout_pastcov': {5: -4.896645400709332e-06,\n",
      "                                      9: -7.637095518209281e-07,\n",
      "                                      13: 3.2405538409354913e-05,\n",
      "                                      17: -6.15254245521039e-06,\n",
      "                                      21: 3.4052826842570186e-05},\n",
      " 'avg_cardio_workouts_pastcov': {5: 9.608622604632504e-05,\n",
      "                                 9: 0.00011566966641189207,\n",
      "                                 13: 0.00012761290174524554,\n",
      "                                 17: 0.00012812896474604743,\n",
      "                                 21: 6.52477404713044e-05},\n",
      " 'avg_duration_per_workout_pastcov': {5: 1.777022772439827e-05,\n",
      "                                      9: 1.0674137853112267e-06,\n",
      "                                      13: -4.463967399849346e-06,\n",
      "                                      17: 3.0152313578366312e-05,\n",
      "                                      21: 4.3305623772403785e-06},\n",
      " 'avg_isotonic_workouts_pastcov': {5: 0.00010390632316280446,\n",
      "                                   9: 0.000137869077914527,\n",
      "                                   13: 0.00011867383826253471,\n",
      "                                   17: 5.241839443343517e-06,\n",
      "                                   21: -0.00014404631838144726},\n",
      " 'avg_metsmin_workout_pastcov': {5: 4.5152927392747934e-05,\n",
      "                                 9: 7.449771440085999e-05,\n",
      "                                 13: 9.158791372509967e-05,\n",
      "                                 17: 0.0001011431925986233,\n",
      "                                 21: 8.944586230096183e-05},\n",
      " 'cardio_calories_week_pastcov': {5: -5.2719686692502694e-05,\n",
      "                                  9: 0.0001984425673584589,\n",
      "                                  13: 0.000404073093645923,\n",
      "                                  17: 0.0006008524396966901,\n",
      "                                  21: 0.00041292279825243407},\n",
      " 'cardio_minutes_week_pastcov': {5: -3.970837135164947e-05,\n",
      "                                 9: -0.00018269026655310443,\n",
      "                                 13: -0.0002836871667160808,\n",
      "                                 17: -0.00039720063458867664,\n",
      "                                 21: -0.0003098768682229864},\n",
      " 'isotonic_calories_week_pastcov': {5: -0.0004323156289053702,\n",
      "                                    9: -0.0001812377575574311,\n",
      "                                    13: -0.0002876348979305505,\n",
      "                                    17: -8.365194576217168e-05,\n",
      "                                    21: -5.3204834652480994e-05},\n",
      " 'isotonic_minutes_week_pastcov': {5: 0.0002674741544353123,\n",
      "                                   9: 1.2794773328383973e-05,\n",
      "                                   13: 0.00013509330755387712,\n",
      "                                   17: -3.2408970186291695e-06,\n",
      "                                   21: 2.4328829191282926e-05},\n",
      " 'total_calories_week_pastcov': {5: -0.0003934810181994831,\n",
      "                                 9: -0.001483231278396187,\n",
      "                                 13: -0.0013667863417941512,\n",
      "                                 17: -0.001836960970420471,\n",
      "                                 21: -0.0017635368932415773},\n",
      " 'total_minutes_week_pastcov': {5: 0.0003244121428860078,\n",
      "                                9: 0.001248704126240933,\n",
      "                                13: 0.0010688589473288634,\n",
      "                                17: 0.0016161989534494558,\n",
      "                                21: 0.0017132106042631419}}\n"
     ]
    }
   ],
   "source": [
    "pprint(importances_df.to_dict())"
   ]
  },
  {
   "cell_type": "code",
   "execution_count": null,
   "metadata": {},
   "outputs": [],
   "source": []
  }
 ],
 "metadata": {
  "kernelspec": {
   "display_name": "xai-data",
   "language": "python",
   "name": "python3"
  },
  "language_info": {
   "codemirror_mode": {
    "name": "ipython",
    "version": 3
   },
   "file_extension": ".py",
   "mimetype": "text/x-python",
   "name": "python",
   "nbconvert_exporter": "python",
   "pygments_lexer": "ipython3",
   "version": "3.10.14"
  }
 },
 "nbformat": 4,
 "nbformat_minor": 2
}
