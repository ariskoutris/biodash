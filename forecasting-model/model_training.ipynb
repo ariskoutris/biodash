{
 "cells": [
  {
   "cell_type": "code",
   "execution_count": 1,
   "metadata": {},
   "outputs": [],
   "source": [
    "import numpy as np\n",
    "import matplotlib.pyplot as plt\n",
    "import pandas as pd\n",
    "import pickle\n",
    "from darts.timeseries import TimeSeries\n",
    "from darts.models import RegressionModel\n",
    "from sklearn.linear_model import Ridge\n",
    "from darts.utils.missing_values import fill_missing_values as darts_fill_na\n",
    "from darts.dataprocessing import Pipeline\n",
    "from darts.dataprocessing.transformers import Scaler, StaticCovariatesTransformer, InvertibleMapper"
   ]
  },
  {
   "cell_type": "code",
   "execution_count": 2,
   "metadata": {},
   "outputs": [],
   "source": [
    "TARGET_BM = 'Weight'\n",
    "WEIGHTS_DIR = 'weights/' + TARGET_BM + '/'"
   ]
  },
  {
   "cell_type": "code",
   "execution_count": 3,
   "metadata": {},
   "outputs": [],
   "source": [
    "train_df = pd.read_pickle('timeseries_dataset.pkl')"
   ]
  },
  {
   "cell_type": "markdown",
   "metadata": {},
   "source": [
    "# Fit Model"
   ]
  },
  {
   "cell_type": "code",
   "execution_count": 4,
   "metadata": {},
   "outputs": [],
   "source": [
    "train_set = train_df[train_df.Biometric == TARGET_BM]\n",
    "exercises_timeseries = train_set.ExercisesTimeSeries.tolist()\n",
    "biometric_timeseries = train_set.BiometricTimeSeries.tolist()"
   ]
  },
  {
   "cell_type": "code",
   "execution_count": null,
   "metadata": {},
   "outputs": [],
   "source": [
    "cols_list = ['upper_body_calories_week', 'upper_body_minutes_week', 'lower_body_calories_week', 'lower_body_minutes_week', 'core_calories_week', 'core_minutes_week', 'total_body_calories_week', 'total_body_minutes_week', 'avg_upper_body_workouts', 'avg_lower_body_workouts', 'avg_core_workouts_week', 'avg_total_body_workouts']\n",
    "exercises_timeseries = [ts.drop_columns(cols_list) for ts in exercises_timeseries]"
   ]
  },
  {
   "cell_type": "code",
   "execution_count": 5,
   "metadata": {},
   "outputs": [],
   "source": [
    "interesected_exercises_timeseries = [x.slice_intersect(y) for x,y in zip(exercises_timeseries, biometric_timeseries)]\n",
    "interesected_biometrics_timeseries = [x.slice_intersect(y) for x,y in zip(biometric_timeseries, exercises_timeseries)]"
   ]
  },
  {
   "cell_type": "code",
   "execution_count": 6,
   "metadata": {},
   "outputs": [],
   "source": [
    "mask = [len(ts) >= 24 for ts in interesected_exercises_timeseries]\n",
    "\n",
    "masked_exercises_timeseries = [ts for ts, m in zip(interesected_exercises_timeseries, mask) if m]\n",
    "masked_biometrics_timeseries = [ts for ts, m in zip(interesected_biometrics_timeseries, mask) if m]"
   ]
  },
  {
   "cell_type": "code",
   "execution_count": 7,
   "metadata": {},
   "outputs": [],
   "source": [
    "def pad_timeseries(ts, pad_length):\n",
    "    pad_values = pd.DataFrame(np.tile(ts.last_values(), (pad_length,1)))\n",
    "    return ts.append_values(pad_values) "
   ]
  },
  {
   "cell_type": "code",
   "execution_count": 8,
   "metadata": {},
   "outputs": [],
   "source": [
    "pad_length = 50\n",
    "exercise_timeseries_padded = [pad_timeseries(ts, pad_length) for ts in masked_exercises_timeseries]"
   ]
  },
  {
   "cell_type": "code",
   "execution_count": 9,
   "metadata": {},
   "outputs": [],
   "source": [
    "# Pipeline for biometrics\n",
    "static_cov_transformer = StaticCovariatesTransformer(name=\"Encoder\")\n",
    "log_transformer = InvertibleMapper(np.log1p, np.expm1, verbose=False, n_jobs=-1, name=\"Log-Transform\")   \n",
    "train_scaler = Scaler(verbose=False, n_jobs=-1, name=\"Scaling\")\n",
    "preprocess_pipeline = Pipeline([static_cov_transformer, log_transformer])\n",
    "\n",
    "# Pipeline for exercise\n",
    "exercise_scaler = Scaler(verbose=False, n_jobs=-1, name=\"Scaling\")"
   ]
  },
  {
   "cell_type": "code",
   "execution_count": 10,
   "metadata": {},
   "outputs": [],
   "source": [
    "target = preprocess_pipeline.fit_transform(masked_biometrics_timeseries)\n",
    "pickle.dump(target, open(WEIGHTS_DIR + 'target.pkl', 'wb'))"
   ]
  },
  {
   "cell_type": "code",
   "execution_count": 11,
   "metadata": {},
   "outputs": [],
   "source": [
    "past_cov = exercise_scaler.fit_transform(exercise_timeseries_padded)\n",
    "pickle.dump(past_cov, open(WEIGHTS_DIR + 'past_cov.pkl', 'wb'))"
   ]
  },
  {
   "cell_type": "code",
   "execution_count": 12,
   "metadata": {},
   "outputs": [
    {
     "data": {
      "text/plain": [
       "RegressionModel(lags=3, lags_past_covariates=3, lags_future_covariates=None, output_chunk_length=21, output_chunk_shift=0, add_encoders=None, model=Ridge(), multi_models=True, use_static_covariates=True)"
      ]
     },
     "execution_count": 12,
     "metadata": {},
     "output_type": "execute_result"
    }
   ],
   "source": [
    "model = RegressionModel(\n",
    "    model=Ridge(),\n",
    "    lags=3,\n",
    "    lags_past_covariates=3,\n",
    "    output_chunk_length=21\n",
    ")\n",
    "model.fit(series=target, past_covariates=past_cov)"
   ]
  },
  {
   "cell_type": "code",
   "execution_count": 13,
   "metadata": {},
   "outputs": [],
   "source": [
    "preds = model.predict(12, target, past_cov)\n",
    "unnorm_preds = preprocess_pipeline.inverse_transform(preds, partial=True)"
   ]
  },
  {
   "cell_type": "code",
   "execution_count": 14,
   "metadata": {},
   "outputs": [
    {
     "data": {
      "image/png": "[encoded data removed]",
      "text/plain": [
       "<Figure size 640x480 with 1 Axes>"
      ]
     },
     "metadata": {},
     "output_type": "display_data"
    }
   ],
   "source": [
    "i = np.random.randint(0, len(target))\n",
    "masked_biometrics_timeseries[i].plot(label='past')\n",
    "unnorm_preds[i].plot(label='forecast', lw=3)\n",
    "plt.legend()\n",
    "plt.show()"
   ]
  },
  {
   "cell_type": "markdown",
   "metadata": {},
   "source": [
    "Save model and data preprocessor"
   ]
  },
  {
   "cell_type": "code",
   "execution_count": 15,
   "metadata": {},
   "outputs": [],
   "source": [
    "model.save(WEIGHTS_DIR + \"model.pkl\")\n",
    "pickle.dump(preprocess_pipeline, open(WEIGHTS_DIR + 'preprocessor.pkl', 'wb'))\n",
    "pickle.dump(exercise_scaler, open(WEIGHTS_DIR + 'scaler.pkl', 'wb'))"
   ]
  },
  {
   "cell_type": "markdown",
   "metadata": {},
   "source": [
    "# Inference"
   ]
  },
  {
   "cell_type": "code",
   "execution_count": 38,
   "metadata": {},
   "outputs": [],
   "source": [
    "model = RegressionModel.load(WEIGHTS_DIR + \"model.pkl\")\n",
    "preprocess_pipeline = pickle.load(open(WEIGHTS_DIR + 'preprocessor.pkl', 'rb'))\n",
    "scaler = pickle.load(open(WEIGHTS_DIR + 'scaler.pkl', 'rb'))"
   ]
  },
  {
   "cell_type": "code",
   "execution_count": 39,
   "metadata": {},
   "outputs": [],
   "source": [
    "def pad_timeseries(ts, pad_length, feature_adjustments=None):\n",
    "    pad_ts = ts.last_values()\n",
    "    feature_names = ts.columns.tolist()\n",
    "    if feature_adjustments:\n",
    "        for feature, adjustment in feature_adjustments:\n",
    "            feature_stripped = \"_\".join(feature.split(\"_\")[:-1])\n",
    "            index = feature_names.index(feature_stripped)\n",
    "            pad_ts[index] += adjustment\n",
    "    pad_values = pd.DataFrame(np.tile(pad_ts, (pad_length, 1)))\n",
    "    return ts.append_values(pad_values)\n",
    "\n",
    "\n",
    "def preprocess_exercise_data(exercise_data, use_scaler=False):\n",
    "    row = exercise_data.iloc[0]\n",
    "    exercise_types = [x for x in exercise_data.columns if x != \"Week\"]\n",
    "    weeks = pd.Index(row['Week']) \n",
    "    ex_ts = None\n",
    "    for col in exercise_types:\n",
    "        values = row[col]\n",
    "        ts = TimeSeries.from_times_and_values(\n",
    "            times=weeks, values=values, columns=[col], freq=1\n",
    "        )\n",
    "        ts = darts_fill_na(ts, fill=0.0).astype(np.float32)\n",
    "        if ex_ts is None:\n",
    "            ex_ts = ts\n",
    "        else:\n",
    "            ex_ts = ex_ts.stack(ts)\n",
    "    if use_scaler:\n",
    "        return scaler.transform(ex_ts)\n",
    "    return ex_ts\n",
    "\n",
    "def preprocess_biometric_data(biometric_data, metric):\n",
    "    row = biometric_data[biometric_data.Biometrics.Name == metric].iloc[0]\n",
    "    weeks = pd.Index(row.Biometrics[\"Week\"])\n",
    "    values = row.Biometrics['Value']\n",
    "    covs = pd.DataFrame(data={ 'Gender': [row[('Gender', '')]], 'Age': [row[('Age', '')]] })\n",
    "    ts = TimeSeries.from_times_and_values(times=weeks, values=values, columns=[row.Biometrics['Name']], static_covariates=covs, freq=1)\n",
    "    filled_ts = darts_fill_na(ts, fill='auto').astype(np.float32)\n",
    "    return preprocess_pipeline.transform(filled_ts)"
   ]
  },
  {
   "cell_type": "code",
   "execution_count": 40,
   "metadata": {},
   "outputs": [
    {
     "name": "stderr",
     "output_type": "stream",
     "text": [
      "`predict()` was called with `n > output_chunk_length`: using auto-regression to forecast the values after `output_chunk_length` points. The model will access `(n - output_chunk_length)` future values of your `past_covariates` (relative to the first predicted time step). To hide this warning, set `show_warnings=False`.\n"
     ]
    },
    {
     "data": {
      "image/png": "[encoded data removed]",
      "text/plain": [
       "<Figure size 640x480 with 1 Axes>"
      ]
     },
     "metadata": {},
     "output_type": "display_data"
    }
   ],
   "source": [
    "ts_df = pd.read_pickle('processed_dataset.pkl')\n",
    "ex_df = ts_df[['CloudId', 'Exercise']].drop_duplicates(subset=('CloudId', ''))\n",
    "bm_df = ts_df[['CloudId', 'Gender', 'Age', 'Biometrics']]\n",
    "\n",
    "cloud_ids = np.intersect1d(ex_df.CloudId.unique(), bm_df.CloudId.unique())\n",
    "while True:\n",
    "    i = np.random.randint(0, len(cloud_ids))\n",
    "    cloud_id = cloud_ids[i]\n",
    "    ex_df_filtered = ex_df[ex_df.CloudId == cloud_id]['Exercise']\n",
    "    bm_df_filtered = bm_df[bm_df.CloudId == cloud_id]\n",
    "    if TARGET_BM in bm_df_filtered.Biometrics.Name.unique():\n",
    "        break\n",
    "        \n",
    "bm_ts = preprocess_biometric_data(bm_df_filtered, TARGET_BM)\n",
    "ex_ts = preprocess_exercise_data(ex_df_filtered)\n",
    "\n",
    "intersected_ex_ts = ex_ts.slice_intersect(bm_ts)\n",
    "intersected_bm_ts = bm_ts.slice_intersect(ex_ts)\n",
    "\n",
    "padded_ex_ts = pad_timeseries(intersected_ex_ts, 50, [('total_calories_week_', 10), ('total_minutes_week_', 10), ('cardio_calories_week_', 10), ('cardio_minutes_week_', 10), ('isotonic_calories_week_', 10), ('isotonic_minutes_week_', 10), ('avg_duration_per_workout_', 10), ('avg_calories_per_workout_', 10), ('avg_metsmin_workout_', 10), ('avg_isotonic_workouts_', 10), ('avg_cardio_workouts_', 10)])\n",
    "\n",
    "pred = model.predict(\n",
    "            int(np.ceil(4.2 * 10)), [intersected_bm_ts], [padded_ex_ts]\n",
    "        )\n",
    "unnorm_pred = preprocess_pipeline.inverse_transform(pred)[0]\n",
    "unnorm_pred.plot(label='with recommendations')\n",
    "plt.show()"
   ]
  },
  {
   "cell_type": "markdown",
   "metadata": {},
   "source": [
    "# Get a user's data"
   ]
  },
  {
   "cell_type": "code",
   "execution_count": 24,
   "metadata": {},
   "outputs": [],
   "source": [
    "import pandas as pd\n",
    "import numpy as np"
   ]
  },
  {
   "cell_type": "code",
   "execution_count": 39,
   "metadata": {},
   "outputs": [],
   "source": [
    "def convert_to_format(df):\n",
    "    # Extract general information\n",
    "    age = df[('Age', '')].iloc[0]\n",
    "    gender = df[('Gender', '')].iloc[0]\n",
    "    \n",
    "    # Extract biometric data\n",
    "    biometric_data = []\n",
    "    for _, row in df.iterrows():\n",
    "        biometric_name = row[('Biometrics', 'Name')]\n",
    "        weeks = row[('Biometrics', 'Week')]\n",
    "        values = row[('Biometrics', 'Value')]\n",
    "        biometric_data.append({\n",
    "            \"BiometricName\": biometric_name,\n",
    "            \"MeasuredOnWeek\": weeks,\n",
    "            \"Value\": values\n",
    "        })\n",
    "    \n",
    "    # Extract exercise data\n",
    "    agg_training_data = {}\n",
    "    exercise_columns = [col for col in df.columns if col[0] == 'Exercise']\n",
    "    for col in exercise_columns:\n",
    "        key = col[1]\n",
    "        if key == 'Week':\n",
    "            key = 'week'\n",
    "        agg_training_data[key] = df[col].iloc[0]\n",
    "    \n",
    "    # Create final structure\n",
    "    result = {\n",
    "        \"age\": age,\n",
    "        \"gender\": gender,\n",
    "        \"biometric_data\": biometric_data,\n",
    "        \"agg_training_data\": agg_training_data\n",
    "    }\n",
    "    \n",
    "    return result"
   ]
  },
  {
   "cell_type": "code",
   "execution_count": 40,
   "metadata": {},
   "outputs": [],
   "source": [
    "df = pd.read_pickle('processed_dataset.pkl')\n",
    "bm_df = df['Biometrics']\n",
    "ex_df = df['Exercise']"
   ]
  },
  {
   "cell_type": "code",
   "execution_count": 113,
   "metadata": {},
   "outputs": [],
   "source": [
    "cloud_id_bms = df.groupby('CloudId').agg({('Biometrics', 'Name'): set})"
   ]
  },
  {
   "cell_type": "code",
   "execution_count": 135,
   "metadata": {},
   "outputs": [],
   "source": [
    "target_bms = ['Weight', 'Muscle Mass', 'Fat mass Perc', 'Metabolic Age']\n",
    "valid_cloud_ids = cloud_id_bms[('Biometrics', 'Name')].apply(lambda x: all([metric in x for metric in target_bms])).index.tolist()"
   ]
  },
  {
   "cell_type": "code",
   "execution_count": 144,
   "metadata": {},
   "outputs": [
    {
     "name": "stderr",
     "output_type": "stream",
     "text": [
      "/var/folders/53/t55qdy3d6n5fqv80nztwthtr0000gn/T/ipykernel_36484/655617401.py:9: PerformanceWarning: dropping on a non-lexsorted multi-index without a level parameter may impact performance.\n",
      "  convert_to_format(df_filtered.drop(columns=['CloudId']))\n"
     ]
    },
    {
     "data": {
      "text/plain": [
       "{'age': 47,\n",
       " 'gender': 'F',\n",
       " 'biometric_data': [{'BiometricName': 'BMI',\n",
       "   'MeasuredOnWeek': [16, 18, 21, 23, 25, 30, 32, 34, 41, 50],\n",
       "   'Value': [17.9, 18.2, 18.3, 18.1, 18.1, 18.1, 18.1, 18.1, 18.1, 18.1]},\n",
       "  {'BiometricName': 'Basal Metabolic Rate',\n",
       "   'MeasuredOnWeek': [16, 18, 21, 23, 25, 30, 32, 34, 41, 50],\n",
       "   'Value': [1114.0,\n",
       "    1146.0,\n",
       "    1140.0,\n",
       "    1132.0,\n",
       "    1138.0,\n",
       "    1143.0,\n",
       "    1135.0,\n",
       "    1133.0,\n",
       "    1115.0,\n",
       "    1114.0]},\n",
       "  {'BiometricName': 'Basal Metabolic Rate Score',\n",
       "   'MeasuredOnWeek': [16, 18, 21, 23, 25, 30, 32, 34, 41, 50],\n",
       "   'Value': [15.0, 15.0, 15.0, 15.0, 16.0, 16.0, 15.0, 15.0, 15.0, 15.0]},\n",
       "  {'BiometricName': 'Bone Mass',\n",
       "   'MeasuredOnWeek': [16, 18, 21, 23, 25, 30, 32, 34, 41, 50],\n",
       "   'Value': [2.3, 2.4, 2.4, 2.4, 2.4, 2.4, 2.4, 2.4, 2.3, 2.3]},\n",
       "  {'BiometricName': 'Degree Of Obesity Perc',\n",
       "   'MeasuredOnWeek': [16, 18, 21, 23, 25, 30, 32, 34, 41, 50],\n",
       "   'Value': [-18.6,\n",
       "    -17.2,\n",
       "    -16.9,\n",
       "    -17.7,\n",
       "    -17.9,\n",
       "    -17.6,\n",
       "    -17.6,\n",
       "    -17.7,\n",
       "    -17.9,\n",
       "    -17.9]},\n",
       "  {'BiometricName': 'Fat Free Mass',\n",
       "   'MeasuredOnWeek': [16, 18, 21, 23, 25, 30, 32, 34, 41, 50],\n",
       "   'Value': [39.7, 40.9, 40.7, 40.4, 40.7, 40.9, 40.6, 40.5, 39.7, 39.6]},\n",
       "  {'BiometricName': 'Fat Mass',\n",
       "   'MeasuredOnWeek': [16, 18, 21, 23, 25, 30, 32, 34, 41, 50],\n",
       "   'Value': [8.5, 8.1, 8.5, 8.3, 7.9, 7.9, 8.2, 8.2, 8.9, 9.0]},\n",
       "  {'BiometricName': 'Fat mass Perc',\n",
       "   'MeasuredOnWeek': [16, 18, 21, 23, 25, 30, 32, 34, 41, 50],\n",
       "   'Value': [17.7, 16.5, 17.3, 17.0, 16.2, 16.2, 16.9, 16.9, 18.4, 18.5]},\n",
       "  {'BiometricName': 'Height',\n",
       "   'MeasuredOnWeek': [16, 18, 21, 23, 25, 30, 32, 34, 41, 50],\n",
       "   'Value': [164.0,\n",
       "    164.0,\n",
       "    164.0,\n",
       "    164.0,\n",
       "    164.0,\n",
       "    164.0,\n",
       "    164.0,\n",
       "    164.0,\n",
       "    164.0,\n",
       "    164.0]},\n",
       "  {'BiometricName': 'Left Arm Fat Free Mass',\n",
       "   'MeasuredOnWeek': [16, 18, 21, 23, 25, 30, 32, 34, 41, 50],\n",
       "   'Value': [1.8, 1.9, 1.9, 1.9, 1.9, 1.9, 1.9, 1.9, 1.9, 1.9]},\n",
       "  {'BiometricName': 'Left Arm Fat Mass',\n",
       "   'MeasuredOnWeek': [16, 18, 21, 23, 25, 30, 32, 34, 41, 50],\n",
       "   'Value': [0.3, 0.3, 0.3, 0.3, 0.3, 0.3, 0.3, 0.3, 0.3, 0.3]},\n",
       "  {'BiometricName': 'Left Arm Fat Perc',\n",
       "   'MeasuredOnWeek': [16, 18, 21, 23, 25, 30, 32, 34, 41, 50],\n",
       "   'Value': [14.1, 13.7, 14.7, 13.9, 12.8, 13.5, 13.5, 14.0, 14.7, 14.9]},\n",
       "  {'BiometricName': 'Left Arm Fat Perc Score',\n",
       "   'MeasuredOnWeek': [16, 18, 21, 23, 25, 30, 32, 34, 41, 50],\n",
       "   'Value': [-3.0, -3.0, -3.0, -3.0, -3.0, -3.0, -3.0, -3.0, -3.0, -2.0]},\n",
       "  {'BiometricName': 'Left Arm Muscle Mass',\n",
       "   'MeasuredOnWeek': [16, 18, 21, 23, 25, 30, 32, 34, 41, 50],\n",
       "   'Value': [1.7, 1.8, 1.8, 1.8, 1.8, 1.8, 1.8, 1.8, 1.8, 1.8]},\n",
       "  {'BiometricName': 'Left Arm Muscle Mass Score',\n",
       "   'MeasuredOnWeek': [16, 18, 21, 23, 25, 30, 32, 34, 41, 50],\n",
       "   'Value': [-1.0, 0.0, 0.0, 0.0, 0.0, 0.0, 0.0, 0.0, 0.0, 0.0]},\n",
       "  {'BiometricName': 'Left Leg Fat Free Mass',\n",
       "   'MeasuredOnWeek': [16, 18, 21, 23, 25, 30, 32, 34, 41, 50],\n",
       "   'Value': [8.0, 8.2, 8.1, 8.1, 8.1, 8.2, 8.2, 8.1, 7.8, 7.9]},\n",
       "  {'BiometricName': 'Left Leg Fat Mass',\n",
       "   'MeasuredOnWeek': [16, 18, 21, 23, 25, 30, 32, 34, 41, 50],\n",
       "   'Value': [2.4, 2.3, 2.4, 2.4, 2.3, 2.3, 2.3, 2.3, 2.5, 2.5]},\n",
       "  {'BiometricName': 'Left Leg Fat Perc',\n",
       "   'MeasuredOnWeek': [16, 18, 21, 23, 25, 30, 32, 34, 41, 50],\n",
       "   'Value': [23.2, 21.8, 22.7, 22.6, 22.4, 21.6, 22.1, 22.4, 24.2, 24.0]},\n",
       "  {'BiometricName': 'Left Leg Fat Perc Score',\n",
       "   'MeasuredOnWeek': [16, 18, 21, 23, 25, 30, 32, 34, 41, 50],\n",
       "   'Value': [-3.0, -3.0, -3.0, -3.0, -3.0, -3.0, -3.0, -3.0, -2.0, -2.0]},\n",
       "  {'BiometricName': 'Left Leg Muscle Mass',\n",
       "   'MeasuredOnWeek': [16, 18, 21, 23, 25, 30, 32, 34, 41, 50],\n",
       "   'Value': [7.5, 7.7, 7.6, 7.6, 7.6, 7.7, 7.7, 7.6, 7.3, 7.4]},\n",
       "  {'BiometricName': 'Left Leg Muscle Mass Score',\n",
       "   'MeasuredOnWeek': [16, 18, 21, 23, 25, 30, 32, 34, 41, 50],\n",
       "   'Value': [1.0, 1.0, 1.0, 1.0, 1.0, 1.0, 1.0, 1.0, 0.0, 0.0]},\n",
       "  {'BiometricName': 'Leg Muscle Score',\n",
       "   'MeasuredOnWeek': [16, 18, 21, 23, 25, 30, 32, 34, 41, 50],\n",
       "   'Value': [118.0,\n",
       "    116.0,\n",
       "    114.0,\n",
       "    117.0,\n",
       "    115.0,\n",
       "    117.0,\n",
       "    116.0,\n",
       "    115.0,\n",
       "    115.0,\n",
       "    115.0]},\n",
       "  {'BiometricName': 'Muscle Mass',\n",
       "   'MeasuredOnWeek': [16, 18, 21, 23, 25, 30, 32, 34, 41, 50],\n",
       "   'Value': [37.4, 38.5, 38.3, 38.0, 38.3, 38.5, 38.2, 38.1, 37.4, 37.3]},\n",
       "  {'BiometricName': 'Muscle Mass Balance Arm',\n",
       "   'MeasuredOnWeek': [16, 18, 21, 23, 25, 30, 32, 34, 41, 50],\n",
       "   'Value': [1.0, 1.0, 1.0, 1.0, 1.0, 1.0, 1.0, 1.0, 0.0, 0.0]},\n",
       "  {'BiometricName': 'Muscle Mass Balance Leg',\n",
       "   'MeasuredOnWeek': [16, 18, 21, 23, 25, 30, 32, 34, 41, 50],\n",
       "   'Value': [-1.0, 0.0, 0.0, 0.0, 0.0, 0.0, -2.0, -1.0, 1.0, 0.0]},\n",
       "  {'BiometricName': 'Muscle Score',\n",
       "   'MeasuredOnWeek': [16, 18, 21, 23, 25, 30, 32, 34, 41, 50],\n",
       "   'Value': [-1.0, 0.0, -1.0, -1.0, -1.0, 0.0, -1.0, -1.0, -1.0, -1.0]},\n",
       "  {'BiometricName': 'Right Arm Fat Free Mass',\n",
       "   'MeasuredOnWeek': [16, 18, 21, 23, 25, 30, 32, 34, 41, 50],\n",
       "   'Value': [1.9, 2.0, 2.0, 2.0, 2.0, 2.0, 2.0, 2.0, 1.9, 1.9]},\n",
       "  {'BiometricName': 'Right Arm Fat Mass',\n",
       "   'MeasuredOnWeek': [16, 18, 21, 23, 25, 30, 32, 34, 41, 50],\n",
       "   'Value': [0.3, 0.3, 0.3, 0.3, 0.2, 0.3, 0.3, 0.3, 0.3, 0.3]},\n",
       "  {'BiometricName': 'Right Arm Fat Perc',\n",
       "   'MeasuredOnWeek': [16, 18, 21, 23, 25, 30, 32, 34, 41, 50],\n",
       "   'Value': [12.5, 11.9, 12.5, 12.1, 11.0, 11.9, 12.5, 12.6, 13.3, 13.6]},\n",
       "  {'BiometricName': 'Right Arm Fat Perc Score',\n",
       "   'MeasuredOnWeek': [16, 18, 21, 23, 25, 30, 32, 34, 41, 50],\n",
       "   'Value': [-3.0, -3.0, -3.0, -3.0, -3.0, -3.0, -3.0, -3.0, -3.0, -3.0]},\n",
       "  {'BiometricName': 'Right Arm Muscle Mass',\n",
       "   'MeasuredOnWeek': [16, 18, 21, 23, 25, 30, 32, 34, 41, 50],\n",
       "   'Value': [1.8, 1.9, 1.9, 1.9, 1.9, 1.9, 1.9, 1.9, 1.8, 1.8]},\n",
       "  {'BiometricName': 'Right Arm Muscle Mass Score',\n",
       "   'MeasuredOnWeek': [16, 18, 21, 23, 25, 30, 32, 34, 41, 50],\n",
       "   'Value': [0.0, 0.0, 0.0, 0.0, 0.0, 0.0, 0.0, 0.0, 0.0, 0.0]},\n",
       "  {'BiometricName': 'Right Leg Fat Free Mass',\n",
       "   'MeasuredOnWeek': [16, 18, 21, 23, 25, 30, 32, 34, 41, 50],\n",
       "   'Value': [7.9, 8.2, 8.1, 8.1, 8.1, 8.2, 8.0, 8.0, 7.9, 7.9]},\n",
       "  {'BiometricName': 'Right Leg Fat Mass',\n",
       "   'MeasuredOnWeek': [16, 18, 21, 23, 25, 30, 32, 34, 41, 50],\n",
       "   'Value': [2.5, 2.3, 2.4, 2.4, 2.3, 2.3, 2.4, 2.3, 2.5, 2.5]},\n",
       "  {'BiometricName': 'Right Leg Fat Perc',\n",
       "   'MeasuredOnWeek': [16, 18, 21, 23, 25, 30, 32, 34, 41, 50],\n",
       "   'Value': [23.9, 21.6, 22.7, 22.9, 22.2, 21.8, 23.2, 22.6, 24.1, 24.0]},\n",
       "  {'BiometricName': 'Right Leg Fat Perc Score',\n",
       "   'MeasuredOnWeek': [16, 18, 21, 23, 25, 30, 32, 34, 41, 50],\n",
       "   'Value': [-2.0, -3.0, -3.0, -3.0, -3.0, -3.0, -3.0, -3.0, -2.0, -2.0]},\n",
       "  {'BiometricName': 'Right Leg Muscle Mass',\n",
       "   'MeasuredOnWeek': [16, 18, 21, 23, 25, 30, 32, 34, 41, 50],\n",
       "   'Value': [7.4, 7.7, 7.6, 7.6, 7.6, 7.7, 7.5, 7.5, 7.4, 7.4]},\n",
       "  {'BiometricName': 'Right Leg Muscle Mass Score',\n",
       "   'MeasuredOnWeek': [16, 18, 21, 23, 25, 30, 32, 34, 41, 50],\n",
       "   'Value': [0.0, 1.0, 1.0, 1.0, 1.0, 1.0, 1.0, 1.0, 0.0, 0.0]},\n",
       "  {'BiometricName': 'Standard Body Weight',\n",
       "   'MeasuredOnWeek': [16, 18, 21, 23, 25, 30, 32, 34, 41, 50],\n",
       "   'Value': [59.2, 59.2, 59.2, 59.2, 59.2, 59.2, 59.2, 59.2, 59.2, 59.2]},\n",
       "  {'BiometricName': 'Standard Fat Perc',\n",
       "   'MeasuredOnWeek': [16, 18, 21, 23, 25, 30, 32, 34, 41, 50],\n",
       "   'Value': [29.0, 29.0, 29.0, 29.0, 29.0, 29.0, 29.0, 29.0, 29.0, 29.0]},\n",
       "  {'BiometricName': 'Standard Muscle Mass Perc',\n",
       "   'MeasuredOnWeek': [16, 18, 21, 23, 25, 30, 32, 34, 41, 50],\n",
       "   'Value': [39.5, 39.5, 39.5, 39.5, 39.5, 39.5, 39.5, 39.5, 39.5, 39.5]},\n",
       "  {'BiometricName': 'Total Body Water',\n",
       "   'MeasuredOnWeek': [16, 18, 21, 23, 25, 30, 32, 34, 41, 50],\n",
       "   'Value': [27.2, 28.3, 28.1, 27.8, 28.1, 28.2, 28.0, 27.9, 27.2, 27.2]},\n",
       "  {'BiometricName': 'Total Body Water Perc',\n",
       "   'MeasuredOnWeek': [16, 18, 21, 23, 25, 30, 32, 34, 41, 50],\n",
       "   'Value': [56.4, 57.8, 57.1, 57.1, 57.8, 57.8, 57.4, 57.3, 56.0, 56.0]},\n",
       "  {'BiometricName': 'Trunk Fat Free Mass',\n",
       "   'MeasuredOnWeek': [16, 18, 21, 23, 25, 30, 32, 34, 41, 50],\n",
       "   'Value': [20.1, 20.6, 20.6, 20.3, 20.6, 20.6, 20.5, 20.5, 20.2, 20.0]},\n",
       "  {'BiometricName': 'Trunk Fat Mass',\n",
       "   'MeasuredOnWeek': [16, 18, 21, 23, 25, 30, 32, 34, 41, 50],\n",
       "   'Value': [3.0, 2.9, 3.1, 2.9, 2.8, 2.7, 2.9, 3.0, 3.3, 3.4]},\n",
       "  {'BiometricName': 'Trunk Fat Perc',\n",
       "   'MeasuredOnWeek': [16, 18, 21, 23, 25, 30, 32, 34, 41, 50],\n",
       "   'Value': [13.0, 12.3, 13.1, 12.5, 12.0, 11.6, 12.4, 12.8, 14.0, 14.5]},\n",
       "  {'BiometricName': 'Trunk Fat Perc Score',\n",
       "   'MeasuredOnWeek': [16, 18, 21, 23, 25, 30, 32, 34, 41, 50],\n",
       "   'Value': [-3.0, -3.0, -3.0, -3.0, -3.0, -3.0, -3.0, -3.0, -2.0, -2.0]},\n",
       "  {'BiometricName': 'Trunk Muscle Mass',\n",
       "   'MeasuredOnWeek': [16, 18, 21, 23, 25, 30, 32, 34, 41, 50],\n",
       "   'Value': [19.0, 19.4, 19.4, 19.1, 19.4, 19.4, 19.3, 19.3, 19.1, 18.9]},\n",
       "  {'BiometricName': 'Trunk Muscle Mass Score',\n",
       "   'MeasuredOnWeek': [16, 18, 21, 23, 25, 30, 32, 34, 41, 50],\n",
       "   'Value': [-3.0, -2.0, -2.0, -3.0, -2.0, -2.0, -2.0, -2.0, -3.0, -3.0]},\n",
       "  {'BiometricName': 'Visceral Fat Rating',\n",
       "   'MeasuredOnWeek': [16, 18, 21, 23, 25, 30, 32, 34, 41, 50],\n",
       "   'Value': [1.0, 1.0, 1.0, 1.0, 1.0, 1.0, 1.0, 1.0, 2.0, 2.0]},\n",
       "  {'BiometricName': 'Weight',\n",
       "   'MeasuredOnWeek': [16, 18, 21, 23, 25, 30, 32, 34, 41, 50],\n",
       "   'Value': [48.2, 49.0, 49.2, 48.7, 48.6, 48.8, 48.8, 48.7, 48.6, 48.6]}],\n",
       " 'agg_training_data': {'week': [17, 35],\n",
       "  'total_calories_week': [5.0, 5.0],\n",
       "  'total_minutes_week': [70, 77],\n",
       "  'cardio_calories_week': [0.0, 0.0],\n",
       "  'cardio_minutes_week': [0.0, 0.0],\n",
       "  'isotonic_calories_week': [5.0, 5.0],\n",
       "  'isotonic_minutes_week': [70.0, 77.0],\n",
       "  'avg_duration_per_workout': [70.0, 77.0],\n",
       "  'avg_calories_per_workout': [5.0, 5.0],\n",
       "  'avg_metsmin_workout': [5.4, 5.1],\n",
       "  'avg_isotonic_workouts': [1.0, 1.0],\n",
       "  'avg_cardio_workouts': [0.0, 0.0]}}"
      ]
     },
     "execution_count": 144,
     "metadata": {},
     "output_type": "execute_result"
    }
   ],
   "source": [
    "cloud_id_bms = df.groupby('CloudId').agg({('Biometrics', 'Name'): set})\n",
    "target_bms = ['Weight', 'Muscle Mass', 'Fat mass Perc', 'Metabolic Age']\n",
    "valid_cloud_ids = cloud_id_bms[('Biometrics', 'Name')].apply(lambda x: all([metric in x for metric in target_bms])).index.tolist()\n",
    "i = np.random.randint(0, len(valid_cloud_ids))\n",
    "cloud_id = valid_cloud_ids[i]\n",
    "df_filtered = df[df.CloudId == cloud_id]\n",
    "bm_data = df_filtered['Biometrics']\n",
    "ex_data = df_filtered['Exercise'].iloc[:1]\n",
    "convert_to_format(df_filtered.drop(columns=['CloudId']))"
   ]
  },
  {
   "cell_type": "code",
   "execution_count": null,
   "metadata": {},
   "outputs": [],
   "source": []
  }
 ],
 "metadata": {
  "kernelspec": {
   "display_name": "xai-data",
   "language": "python",
   "name": "python3"
  },
  "language_info": {
   "codemirror_mode": {
    "name": "ipython",
    "version": 3
   },
   "file_extension": ".py",
   "mimetype": "text/x-python",
   "name": "python",
   "nbconvert_exporter": "python",
   "pygments_lexer": "ipython3",
   "version": "3.10.14"
  }
 },
 "nbformat": 4,
 "nbformat_minor": 2
}
