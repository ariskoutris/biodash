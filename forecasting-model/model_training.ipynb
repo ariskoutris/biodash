{
 "cells": [
  {
   "cell_type": "code",
   "execution_count": 1,
   "metadata": {},
   "outputs": [],
   "source": [
    "import numpy as np\n",
    "import matplotlib.pyplot as plt\n",
    "import pandas as pd\n",
    "import re\n",
    "import pickle\n",
    "from darts.timeseries import TimeSeries\n",
    "from darts.models import RegressionModel\n",
    "from sklearn.linear_model import Ridge\n",
    "from darts.utils.missing_values import fill_missing_values as darts_fill_na\n",
    "from darts.dataprocessing import Pipeline\n",
    "from darts.dataprocessing.transformers import Scaler, StaticCovariatesTransformer, InvertibleMapper"
   ]
  },
  {
   "cell_type": "code",
   "execution_count": 2,
   "metadata": {},
   "outputs": [],
   "source": [
    "csv_dfs = {}\n",
    "csv_dfs['bq-results-20240418-170723-1713460063623'] = pd.read_csv('data/bq-results-20240418-170723-1713460063623.csv')"
   ]
  },
  {
   "cell_type": "markdown",
   "metadata": {},
   "source": [
    "# Training"
   ]
  },
  {
   "cell_type": "markdown",
   "metadata": {},
   "source": [
    "## Process Data"
   ]
  },
  {
   "cell_type": "code",
   "execution_count": 3,
   "metadata": {},
   "outputs": [],
   "source": [
    "biometrics = csv_dfs['bq-results-20240418-170723-1713460063623']\n",
    "biometrics.drop_duplicates(subset=['CloudId', 'BiometricName', 'MeasuredOnUTC', 'Value'], keep='first', inplace=True)\n",
    "\n",
    "def clean_timestamp(ts_str):\n",
    "    clean_str = re.sub(r'(\\d+:\\d+:\\d+)(\\.\\d+)?', r'\\1', ts_str)\n",
    "    return clean_str\n",
    "\n",
    "biometrics['MeasuredOn'] = biometrics['MeasuredOnUTC'].apply(clean_timestamp)\n",
    "biometrics['MeasuredOn'] = pd.to_datetime(biometrics['MeasuredOn'], errors='coerce')\n",
    "biometrics['MeasuredOnDate'] = biometrics['MeasuredOn'].dt.date\n",
    "biometrics['MeasuredOnDay'] = biometrics['MeasuredOn'].dt.dayofyear\n",
    "biometrics['MeasuredOnWeek'] = biometrics['MeasuredOnDay'] // 7\n",
    "biometrics.sort_values('MeasuredOnWeek', inplace=True)"
   ]
  },
  {
   "cell_type": "code",
   "execution_count": 4,
   "metadata": {},
   "outputs": [
    {
     "data": {
      "text/html": [
       "<div>\n",
       "<style scoped>\n",
       "    .dataframe tbody tr th:only-of-type {\n",
       "        vertical-align: middle;\n",
       "    }\n",
       "\n",
       "    .dataframe tbody tr th {\n",
       "        vertical-align: top;\n",
       "    }\n",
       "\n",
       "    .dataframe thead th {\n",
       "        text-align: right;\n",
       "    }\n",
       "</style>\n",
       "<table border=\"1\" class=\"dataframe\">\n",
       "  <thead>\n",
       "    <tr style=\"text-align: right;\">\n",
       "      <th></th>\n",
       "      <th>CloudId</th>\n",
       "      <th>BiometricName</th>\n",
       "      <th>MeasuredOnWeek</th>\n",
       "      <th>Value</th>\n",
       "    </tr>\n",
       "  </thead>\n",
       "  <tbody>\n",
       "    <tr>\n",
       "      <th>232024</th>\n",
       "      <td>6e1b110b8c499398e8abbbce1781edbcc4d60742</td>\n",
       "      <td>Right Leg Muscle Mass</td>\n",
       "      <td>19</td>\n",
       "      <td>11.3</td>\n",
       "    </tr>\n",
       "    <tr>\n",
       "      <th>94158</th>\n",
       "      <td>2c24a6198cb11adc2f83055653c8d53fd49b2392</td>\n",
       "      <td>HR At Rest</td>\n",
       "      <td>19</td>\n",
       "      <td>58.0</td>\n",
       "    </tr>\n",
       "    <tr>\n",
       "      <th>72566</th>\n",
       "      <td>227ab9c8dd2eb94a0fde77cadb6e1498e9cd4d1b</td>\n",
       "      <td>Standard Muscle Mass Perc</td>\n",
       "      <td>25</td>\n",
       "      <td>58.9</td>\n",
       "    </tr>\n",
       "    <tr>\n",
       "      <th>377036</th>\n",
       "      <td>b0dc2b007409cc5a3cf920debc9b87dc11b25a4d</td>\n",
       "      <td>Left Arm Muscle Mass</td>\n",
       "      <td>19</td>\n",
       "      <td>2.8</td>\n",
       "    </tr>\n",
       "    <tr>\n",
       "      <th>339408</th>\n",
       "      <td>9ef059144968f5289762d00773b8ddb5fb9c8360</td>\n",
       "      <td>HR At Rest</td>\n",
       "      <td>48</td>\n",
       "      <td>106.5</td>\n",
       "    </tr>\n",
       "  </tbody>\n",
       "</table>\n",
       "</div>"
      ],
      "text/plain": [
       "                                         CloudId              BiometricName  \\\n",
       "232024  6e1b110b8c499398e8abbbce1781edbcc4d60742      Right Leg Muscle Mass   \n",
       "94158   2c24a6198cb11adc2f83055653c8d53fd49b2392                 HR At Rest   \n",
       "72566   227ab9c8dd2eb94a0fde77cadb6e1498e9cd4d1b  Standard Muscle Mass Perc   \n",
       "377036  b0dc2b007409cc5a3cf920debc9b87dc11b25a4d       Left Arm Muscle Mass   \n",
       "339408  9ef059144968f5289762d00773b8ddb5fb9c8360                 HR At Rest   \n",
       "\n",
       "        MeasuredOnWeek  Value  \n",
       "232024              19   11.3  \n",
       "94158               19   58.0  \n",
       "72566               25   58.9  \n",
       "377036              19    2.8  \n",
       "339408              48  106.5  "
      ]
     },
     "execution_count": 4,
     "metadata": {},
     "output_type": "execute_result"
    }
   ],
   "source": [
    "bms = biometrics.drop(columns=['Age', 'Gender', 'MeasureProvidedBy', 'MeasuredOnUTC', 'MeasuredOnDay', 'MeasuredOn', 'MeasuredOnDate'])\n",
    "bms = bms.groupby(['CloudId', 'BiometricName', 'MeasuredOnWeek']).agg({'Value': 'mean'}).reset_index()\n",
    "bms.sample(5)"
   ]
  },
  {
   "cell_type": "code",
   "execution_count": 5,
   "metadata": {},
   "outputs": [
    {
     "data": {
      "text/html": [
       "<div>\n",
       "<style scoped>\n",
       "    .dataframe tbody tr th:only-of-type {\n",
       "        vertical-align: middle;\n",
       "    }\n",
       "\n",
       "    .dataframe tbody tr th {\n",
       "        vertical-align: top;\n",
       "    }\n",
       "\n",
       "    .dataframe thead tr th {\n",
       "        text-align: left;\n",
       "    }\n",
       "</style>\n",
       "<table border=\"1\" class=\"dataframe\">\n",
       "  <thead>\n",
       "    <tr>\n",
       "      <th></th>\n",
       "      <th>CloudId</th>\n",
       "      <th>BiometricName</th>\n",
       "      <th colspan=\"2\" halign=\"left\">MeasuredOnWeek</th>\n",
       "      <th>Value</th>\n",
       "    </tr>\n",
       "    <tr>\n",
       "      <th></th>\n",
       "      <th></th>\n",
       "      <th></th>\n",
       "      <th>list</th>\n",
       "      <th>count</th>\n",
       "      <th>list</th>\n",
       "    </tr>\n",
       "  </thead>\n",
       "  <tbody>\n",
       "    <tr>\n",
       "      <th>227528</th>\n",
       "      <td>f8eae335573bdaa65e8638ca01df58a946e04fda</td>\n",
       "      <td>Left Arm Fat Free Mass</td>\n",
       "      <td>[18, 37, 48, 50]</td>\n",
       "      <td>4</td>\n",
       "      <td>[1.8, 1.8, 1.8, 1.8]</td>\n",
       "    </tr>\n",
       "    <tr>\n",
       "      <th>196895</th>\n",
       "      <td>d7afd22ec07929a846562f409f124f006ef3d790</td>\n",
       "      <td>Degree Of Obesity Perc</td>\n",
       "      <td>[32]</td>\n",
       "      <td>1</td>\n",
       "      <td>[12.2]</td>\n",
       "    </tr>\n",
       "    <tr>\n",
       "      <th>210957</th>\n",
       "      <td>e743086fec1e47d61780694c2bb35077014541ab</td>\n",
       "      <td>Extra Cellular Water</td>\n",
       "      <td>[21, 27, 30, 37, 46]</td>\n",
       "      <td>5</td>\n",
       "      <td>[18.3, 18.3, 18.0, 18.0, 18.3]</td>\n",
       "    </tr>\n",
       "    <tr>\n",
       "      <th>145619</th>\n",
       "      <td>a09c6738fd52f69e92b4be29ad8ba09dc3eff48a</td>\n",
       "      <td>Left Leg Fat Mass</td>\n",
       "      <td>[37]</td>\n",
       "      <td>1</td>\n",
       "      <td>[3.6]</td>\n",
       "    </tr>\n",
       "    <tr>\n",
       "      <th>72388</th>\n",
       "      <td>4f350c466e95f722491c321b42d0b93e2197a9b0</td>\n",
       "      <td>BMI</td>\n",
       "      <td>[37, 46, 48]</td>\n",
       "      <td>3</td>\n",
       "      <td>[26.1, 25.8, 25.3]</td>\n",
       "    </tr>\n",
       "  </tbody>\n",
       "</table>\n",
       "</div>"
      ],
      "text/plain": [
       "                                         CloudId           BiometricName  \\\n",
       "                                                                           \n",
       "227528  f8eae335573bdaa65e8638ca01df58a946e04fda  Left Arm Fat Free Mass   \n",
       "196895  d7afd22ec07929a846562f409f124f006ef3d790  Degree Of Obesity Perc   \n",
       "210957  e743086fec1e47d61780694c2bb35077014541ab    Extra Cellular Water   \n",
       "145619  a09c6738fd52f69e92b4be29ad8ba09dc3eff48a       Left Leg Fat Mass   \n",
       "72388   4f350c466e95f722491c321b42d0b93e2197a9b0                     BMI   \n",
       "\n",
       "              MeasuredOnWeek                                 Value  \n",
       "                        list count                            list  \n",
       "227528      [18, 37, 48, 50]     4            [1.8, 1.8, 1.8, 1.8]  \n",
       "196895                  [32]     1                          [12.2]  \n",
       "210957  [21, 27, 30, 37, 46]     5  [18.3, 18.3, 18.0, 18.0, 18.3]  \n",
       "145619                  [37]     1                           [3.6]  \n",
       "72388           [37, 46, 48]     3              [26.1, 25.8, 25.3]  "
      ]
     },
     "execution_count": 5,
     "metadata": {},
     "output_type": "execute_result"
    }
   ],
   "source": [
    "grouped_bms = bms.groupby(['CloudId', 'BiometricName']).agg({'MeasuredOnWeek': [list, 'count'], 'Value': list})\n",
    "grouped_bms = grouped_bms.reset_index()\n",
    "grouped_bms.sample(5)"
   ]
  },
  {
   "cell_type": "markdown",
   "metadata": {},
   "source": [
    "Use only (CloudId, BiometricName) pairs with more than 3 measurements"
   ]
  },
  {
   "cell_type": "code",
   "execution_count": 6,
   "metadata": {},
   "outputs": [
    {
     "name": "stdout",
     "output_type": "stream",
     "text": [
      "Sequences with more than 3 weeks of data:\t39474\n",
      "Total number of sequences:\t\t\t234079\n"
     ]
    }
   ],
   "source": [
    "grouped_long_bms = grouped_bms[grouped_bms[('MeasuredOnWeek', 'count')] > 3]\n",
    "print(f'Sequences with more than 3 weeks of data:\\t{len(grouped_long_bms)}')\n",
    "print(f'Total number of sequences:\\t\\t\\t{len(grouped_bms)}')"
   ]
  },
  {
   "cell_type": "code",
   "execution_count": 7,
   "metadata": {},
   "outputs": [
    {
     "data": {
      "text/html": [
       "<div>\n",
       "<style scoped>\n",
       "    .dataframe tbody tr th:only-of-type {\n",
       "        vertical-align: middle;\n",
       "    }\n",
       "\n",
       "    .dataframe tbody tr th {\n",
       "        vertical-align: top;\n",
       "    }\n",
       "\n",
       "    .dataframe thead th {\n",
       "        text-align: right;\n",
       "    }\n",
       "</style>\n",
       "<table border=\"1\" class=\"dataframe\">\n",
       "  <thead>\n",
       "    <tr style=\"text-align: right;\">\n",
       "      <th></th>\n",
       "      <th>CloudId</th>\n",
       "      <th>BiometricName</th>\n",
       "      <th>MeasuredOnWeek</th>\n",
       "      <th>Value</th>\n",
       "    </tr>\n",
       "  </thead>\n",
       "  <tbody>\n",
       "    <tr>\n",
       "      <th>195936</th>\n",
       "      <td>cd7844ef3783105af997ec3635539d823988b694</td>\n",
       "      <td>Left Arm Muscle Mass</td>\n",
       "      <td>16</td>\n",
       "      <td>2.100000</td>\n",
       "    </tr>\n",
       "    <tr>\n",
       "      <th>134476</th>\n",
       "      <td>876fed2ad3fb1efb40ca76eeaab7c566f2386a63</td>\n",
       "      <td>Waist-Hip ratio</td>\n",
       "      <td>37</td>\n",
       "      <td>0.890000</td>\n",
       "    </tr>\n",
       "    <tr>\n",
       "      <th>178862</th>\n",
       "      <td>b896323f0519c742cebfe9b1b8d864cb81a5c2f9</td>\n",
       "      <td>Fat Free Mass</td>\n",
       "      <td>16</td>\n",
       "      <td>54.300000</td>\n",
       "    </tr>\n",
       "    <tr>\n",
       "      <th>71245</th>\n",
       "      <td>4b4c87f9636eab62d2b693507620003f86038b37</td>\n",
       "      <td>Left Leg Fat Perc</td>\n",
       "      <td>17</td>\n",
       "      <td>12.900000</td>\n",
       "    </tr>\n",
       "    <tr>\n",
       "      <th>21483</th>\n",
       "      <td>12c0e9a42836cd76fcace11d7d5dfcc9b09356b7</td>\n",
       "      <td>Diastolic Blood Pressure</td>\n",
       "      <td>48</td>\n",
       "      <td>86.333333</td>\n",
       "    </tr>\n",
       "  </tbody>\n",
       "</table>\n",
       "</div>"
      ],
      "text/plain": [
       "                                         CloudId             BiometricName  \\\n",
       "195936  cd7844ef3783105af997ec3635539d823988b694      Left Arm Muscle Mass   \n",
       "134476  876fed2ad3fb1efb40ca76eeaab7c566f2386a63           Waist-Hip ratio   \n",
       "178862  b896323f0519c742cebfe9b1b8d864cb81a5c2f9             Fat Free Mass   \n",
       "71245   4b4c87f9636eab62d2b693507620003f86038b37         Left Leg Fat Perc   \n",
       "21483   12c0e9a42836cd76fcace11d7d5dfcc9b09356b7  Diastolic Blood Pressure   \n",
       "\n",
       "        MeasuredOnWeek      Value  \n",
       "195936              16   2.100000  \n",
       "134476              37   0.890000  \n",
       "178862              16  54.300000  \n",
       "71245               17  12.900000  \n",
       "21483               48  86.333333  "
      ]
     },
     "execution_count": 7,
     "metadata": {},
     "output_type": "execute_result"
    }
   ],
   "source": [
    "long_bms = grouped_long_bms.explode(column=[('MeasuredOnWeek', 'list'), ('Value', 'list')], ignore_index=True)\n",
    "long_bms = long_bms.drop(columns=[('MeasuredOnWeek', 'count')])\n",
    "long_bms.columns = [col[0] for col in long_bms.columns]\n",
    "long_bms = long_bms.astype({'MeasuredOnWeek': 'int32', 'Value': 'float64'})\n",
    "long_bms.sample(5)"
   ]
  },
  {
   "cell_type": "markdown",
   "metadata": {},
   "source": [
    "Compute time series for each Cloud ID, Biomertric pair"
   ]
  },
  {
   "cell_type": "code",
   "execution_count": 8,
   "metadata": {},
   "outputs": [
    {
     "data": {
      "text/html": [
       "<div>\n",
       "<style scoped>\n",
       "    .dataframe tbody tr th:only-of-type {\n",
       "        vertical-align: middle;\n",
       "    }\n",
       "\n",
       "    .dataframe tbody tr th {\n",
       "        vertical-align: top;\n",
       "    }\n",
       "\n",
       "    .dataframe thead th {\n",
       "        text-align: right;\n",
       "    }\n",
       "</style>\n",
       "<table border=\"1\" class=\"dataframe\">\n",
       "  <thead>\n",
       "    <tr style=\"text-align: right;\">\n",
       "      <th></th>\n",
       "      <th>CloudId</th>\n",
       "      <th>BiometricName</th>\n",
       "      <th>MeasuredOnWeek</th>\n",
       "      <th>Value</th>\n",
       "    </tr>\n",
       "  </thead>\n",
       "  <tbody>\n",
       "    <tr>\n",
       "      <th>24473</th>\n",
       "      <td>997bad3eada72d0cbfdc93ee89af132881486d3d</td>\n",
       "      <td>Left Arm Fat Perc</td>\n",
       "      <td>[16, 18, 19, 26, 27]</td>\n",
       "      <td>[14.0, 14.2, 13.0, 12.7, 12.1]</td>\n",
       "    </tr>\n",
       "    <tr>\n",
       "      <th>34225</th>\n",
       "      <td>e08bdc044a18d842942dc01477e6f251e33ae142</td>\n",
       "      <td>Right Leg Fat Free Mass</td>\n",
       "      <td>[18, 28, 46, 52]</td>\n",
       "      <td>[11.0, 10.5, 11.0, 11.1]</td>\n",
       "    </tr>\n",
       "    <tr>\n",
       "      <th>6106</th>\n",
       "      <td>24b9d3f71d3974f6990b37c1b7c7021db97ff62b</td>\n",
       "      <td>Right Leg Muscle Mass Score</td>\n",
       "      <td>[18, 19, 26, 28, 30, 32, 37, 41, 46, 48]</td>\n",
       "      <td>[1.0, 1.0, 1.0, 1.0, 2.0, 2.0, 2.0, 2.0, 2.0, ...</td>\n",
       "    </tr>\n",
       "    <tr>\n",
       "      <th>25275</th>\n",
       "      <td>9ee89b5d6144aee9a0f878ec5bf8a8df983701f1</td>\n",
       "      <td>Trunk Fat Free Mass</td>\n",
       "      <td>[17, 18, 19, 21, 26, 28, 36, 37, 39, 48, 50, 52]</td>\n",
       "      <td>[28.7, 28.3, 28.1, 28.2, 28.1, 28.4, 28.1, 28....</td>\n",
       "    </tr>\n",
       "    <tr>\n",
       "      <th>15518</th>\n",
       "      <td>64037b9854f2fc74acc78b474f1f3ed1430edfef</td>\n",
       "      <td>Right Arm Fat Perc</td>\n",
       "      <td>[19, 26, 27, 28, 37, 39, 46, 48, 50]</td>\n",
       "      <td>[14.9, 15.2, 14.2, 14.6, 15.15, 15.6, 15.4, 15...</td>\n",
       "    </tr>\n",
       "  </tbody>\n",
       "</table>\n",
       "</div>"
      ],
      "text/plain": [
       "                                        CloudId                BiometricName  \\\n",
       "24473  997bad3eada72d0cbfdc93ee89af132881486d3d            Left Arm Fat Perc   \n",
       "34225  e08bdc044a18d842942dc01477e6f251e33ae142      Right Leg Fat Free Mass   \n",
       "6106   24b9d3f71d3974f6990b37c1b7c7021db97ff62b  Right Leg Muscle Mass Score   \n",
       "25275  9ee89b5d6144aee9a0f878ec5bf8a8df983701f1          Trunk Fat Free Mass   \n",
       "15518  64037b9854f2fc74acc78b474f1f3ed1430edfef           Right Arm Fat Perc   \n",
       "\n",
       "                                         MeasuredOnWeek  \\\n",
       "24473                              [16, 18, 19, 26, 27]   \n",
       "34225                                  [18, 28, 46, 52]   \n",
       "6106           [18, 19, 26, 28, 30, 32, 37, 41, 46, 48]   \n",
       "25275  [17, 18, 19, 21, 26, 28, 36, 37, 39, 48, 50, 52]   \n",
       "15518              [19, 26, 27, 28, 37, 39, 46, 48, 50]   \n",
       "\n",
       "                                                   Value  \n",
       "24473                     [14.0, 14.2, 13.0, 12.7, 12.1]  \n",
       "34225                           [11.0, 10.5, 11.0, 11.1]  \n",
       "6106   [1.0, 1.0, 1.0, 1.0, 2.0, 2.0, 2.0, 2.0, 2.0, ...  \n",
       "25275  [28.7, 28.3, 28.1, 28.2, 28.1, 28.4, 28.1, 28....  \n",
       "15518  [14.9, 15.2, 14.2, 14.6, 15.15, 15.6, 15.4, 15...  "
      ]
     },
     "execution_count": 8,
     "metadata": {},
     "output_type": "execute_result"
    }
   ],
   "source": [
    "df = long_bms.groupby(['CloudId', 'BiometricName']).agg({'MeasuredOnWeek': list, 'Value': list}).reset_index()\n",
    "df.sample(5)"
   ]
  },
  {
   "cell_type": "markdown",
   "metadata": {},
   "source": [
    "Store users with a lot of data to use for demo purposes"
   ]
  },
  {
   "cell_type": "code",
   "execution_count": 39,
   "metadata": {},
   "outputs": [],
   "source": [
    "long_df = df[df.MeasuredOnWeek.apply(lambda x: max(x) - min(x) >= 25)]\n",
    "long_df.to_pickle('processed_biometrics.pkl')"
   ]
  },
  {
   "cell_type": "markdown",
   "metadata": {},
   "source": [
    "- Add gender and age as static covariates\n",
    "- Exercise features and height can be encoded either as static or as dynamic covariates\n",
    "- Finally each timeseries should use the rest of the biometrics as dynamic covariates (e.g. weight timeseries should use fat perc, mucle perc etc. as dynamic covariates)"
   ]
  },
  {
   "cell_type": "code",
   "execution_count": 9,
   "metadata": {},
   "outputs": [],
   "source": [
    "static_cov_df = biometrics[['CloudId', 'Gender', 'Age']].drop_duplicates(subset='CloudId')\n",
    "df = df.merge(static_cov_df, on='CloudId')"
   ]
  },
  {
   "cell_type": "code",
   "execution_count": 10,
   "metadata": {},
   "outputs": [],
   "source": [
    "def create_and_fill_timeseries(row):\n",
    "    times = pd.Index(row['MeasuredOnWeek'])\n",
    "    values = row['Value']\n",
    "    covs = pd.DataFrame(data={ 'Gender': [row['Gender']], 'Age': [row['Age']] })\n",
    "    ts = TimeSeries.from_times_and_values(times=times, values=values, static_covariates=covs, freq=1)\n",
    "    filled_ts = darts_fill_na(ts, fill='auto').astype(np.float32)\n",
    "    return filled_ts"
   ]
  },
  {
   "cell_type": "code",
   "execution_count": 11,
   "metadata": {},
   "outputs": [],
   "source": [
    "df['time_series'] = df.apply(create_and_fill_timeseries, axis=1)"
   ]
  },
  {
   "cell_type": "code",
   "execution_count": 12,
   "metadata": {},
   "outputs": [],
   "source": [
    "train_df = df.drop(columns=['Age', 'Gender', 'MeasuredOnWeek', 'Value'])"
   ]
  },
  {
   "cell_type": "markdown",
   "metadata": {},
   "source": [
    "Set up data normalization pipeline"
   ]
  },
  {
   "cell_type": "code",
   "execution_count": 13,
   "metadata": {},
   "outputs": [],
   "source": [
    "static_cov_transformer = StaticCovariatesTransformer(name=\"Encoder\")\n",
    "log_transformer = InvertibleMapper(np.log1p, np.expm1, verbose=False, n_jobs=-1, name=\"Log-Transform\")   \n",
    "train_scaler = Scaler(verbose=False, n_jobs=-1, name=\"Scaling\")\n",
    "preprocess_pipeline = Pipeline([static_cov_transformer, log_transformer])"
   ]
  },
  {
   "cell_type": "markdown",
   "metadata": {},
   "source": [
    "## Fit Model"
   ]
  },
  {
   "cell_type": "code",
   "execution_count": 14,
   "metadata": {},
   "outputs": [],
   "source": [
    "target_bm = 'Weight'"
   ]
  },
  {
   "cell_type": "code",
   "execution_count": 15,
   "metadata": {},
   "outputs": [],
   "source": [
    "train_set = train_df[train_df.BiometricName == 'Weight'].time_series.tolist()"
   ]
  },
  {
   "cell_type": "markdown",
   "metadata": {},
   "source": [
    "Shift sequences so they start at week 0 and filter out time sequences with durantion less than 25 weeks."
   ]
  },
  {
   "cell_type": "code",
   "execution_count": 16,
   "metadata": {},
   "outputs": [],
   "source": [
    "shifted_train_set = [x.shift(-x.time_index.start) for x in train_set if x.end_time() >= 25]\n",
    "sliced_train_set = [x.slice(0,25) for x in shifted_train_set if x.end_time() >= 25]"
   ]
  },
  {
   "cell_type": "code",
   "execution_count": 17,
   "metadata": {},
   "outputs": [],
   "source": [
    "train_set_transf = preprocess_pipeline.fit_transform(sliced_train_set)"
   ]
  },
  {
   "cell_type": "code",
   "execution_count": 91,
   "metadata": {},
   "outputs": [
    {
     "data": {
      "text/plain": [
       "RegressionModel(lags=8, lags_past_covariates=None, lags_future_covariates=None, output_chunk_length=4, output_chunk_shift=0, add_encoders=None, model=Ridge(), multi_models=True, use_static_covariates=True)"
      ]
     },
     "execution_count": 91,
     "metadata": {},
     "output_type": "execute_result"
    }
   ],
   "source": [
    "model = RegressionModel(\n",
    "    model=Ridge(),\n",
    "    lags=8,\n",
    "    output_chunk_length=4\n",
    ")\n",
    "model.fit(train_set_transf)"
   ]
  },
  {
   "cell_type": "code",
   "execution_count": 163,
   "metadata": {},
   "outputs": [],
   "source": [
    "preds = model.predict(12, train_set_transf)\n",
    "unnorm_preds = preprocess_pipeline.inverse_transform(preds, partial=True)"
   ]
  },
  {
   "cell_type": "code",
   "execution_count": 221,
   "metadata": {},
   "outputs": [
    {
     "data": {
      "image/png": "[encoded data removed]",
      "text/plain": [
       "<Figure size 640x480 with 1 Axes>"
      ]
     },
     "metadata": {},
     "output_type": "display_data"
    }
   ],
   "source": [
    "i = np.random.randint(0, len(sliced_train_set))\n",
    "sliced_train_set[i].plot(label='past')\n",
    "unnorm_preds[i].plot(label='forecast', lw=3)\n",
    "plt.legend()\n",
    "plt.show()"
   ]
  },
  {
   "cell_type": "markdown",
   "metadata": {},
   "source": [
    "Save model and data preprocessor"
   ]
  },
  {
   "cell_type": "code",
   "execution_count": 112,
   "metadata": {},
   "outputs": [],
   "source": [
    "model.save(\"weight_model.pkl\")"
   ]
  },
  {
   "cell_type": "code",
   "execution_count": 113,
   "metadata": {},
   "outputs": [],
   "source": [
    "pickle.dump(preprocess_pipeline, open('weight_preprocessor.pkl', 'wb'))"
   ]
  },
  {
   "cell_type": "markdown",
   "metadata": {},
   "source": [
    "# Inference"
   ]
  },
  {
   "cell_type": "code",
   "execution_count": 3,
   "metadata": {},
   "outputs": [],
   "source": [
    "model = RegressionModel.load(\"weight_model.pkl\")\n",
    "preprocess_pipeline = pickle.load(open('weight_preprocessor.pkl', 'rb'))"
   ]
  },
  {
   "cell_type": "code",
   "execution_count": 4,
   "metadata": {},
   "outputs": [],
   "source": [
    "def create_and_fill_timeseries(row):\n",
    "    times = pd.Index(row['MeasuredOnWeek'])\n",
    "    values = row['Value']\n",
    "    covs = pd.DataFrame(data={ 'Gender': [row['Gender']], 'Age': [row['Age']] })\n",
    "    ts = TimeSeries.from_times_and_values(times=times, values=values, static_covariates=covs, freq=1)\n",
    "    filled_ts = darts_fill_na(ts, fill='auto').astype(np.float32)\n",
    "    return filled_ts"
   ]
  },
  {
   "cell_type": "code",
   "execution_count": 5,
   "metadata": {},
   "outputs": [],
   "source": [
    "# Use samples from the dataset\n",
    "# weeks = sliced_train_set[i].time_index\n",
    "# values = sliced_train_set[i].values()\n",
    "# covs = sliced_train_set[i].static_covariates\n",
    "\n",
    "# Use your own values\n",
    "weeks = pd.Index([0,4,10,16,21,24,26])\n",
    "values = [82, 84, 85, 82, 84, 86, 87][::-1]\n",
    "covs = pd.DataFrame(data={'Gender': ['M'], 'Age': [30]})"
   ]
  },
  {
   "cell_type": "code",
   "execution_count": 7,
   "metadata": {},
   "outputs": [
    {
     "data": {
      "image/png": "[encoded data removed]",
      "text/plain": [
       "<Figure size 640x480 with 1 Axes>"
      ]
     },
     "metadata": {},
     "output_type": "display_data"
    }
   ],
   "source": [
    "ts = TimeSeries.from_times_and_values(times=weeks, values=values, static_covariates=covs, freq=1)\n",
    "filled_ts = darts_fill_na(ts, fill='auto').astype(np.float32)\n",
    "\n",
    "trans_ts = preprocess_pipeline.transform(filled_ts)\n",
    "pred = model.predict(24, [trans_ts])\n",
    "unnorm_pred = preprocess_pipeline.inverse_transform(pred)[0]\n",
    "\n",
    "filled_ts.plot(label='past data')\n",
    "unnorm_pred.plot(label='forecast', lw=3)\n",
    "plt.xlabel('Week')\n",
    "plt.ylabel('Weight')\n",
    "plt.show()"
   ]
  },
  {
   "cell_type": "markdown",
   "metadata": {},
   "source": [
    "# Get a user's data"
   ]
  },
  {
   "cell_type": "code",
   "execution_count": 45,
   "metadata": {},
   "outputs": [],
   "source": [
    "processed_biometrics = pd.read_pickle('processed_biometrics.pkl')\n",
    "valid_cloud_ids = processed_biometrics.CloudId.unique()"
   ]
  },
  {
   "cell_type": "code",
   "execution_count": null,
   "metadata": {},
   "outputs": [],
   "source": [
    "targets = ['Weight', 'Fat mass Perc', 'Muscle Mass', 'HR at Rest']"
   ]
  },
  {
   "cell_type": "code",
   "execution_count": 68,
   "metadata": {},
   "outputs": [],
   "source": [
    "i = np.random.randint(0, len(valid_cloud_ids))\n",
    "cloud_id = valid_cloud_ids[i]"
   ]
  },
  {
   "cell_type": "code",
   "execution_count": 77,
   "metadata": {},
   "outputs": [
    {
     "data": {
      "text/html": [
       "<div>\n",
       "<style scoped>\n",
       "    .dataframe tbody tr th:only-of-type {\n",
       "        vertical-align: middle;\n",
       "    }\n",
       "\n",
       "    .dataframe tbody tr th {\n",
       "        vertical-align: top;\n",
       "    }\n",
       "\n",
       "    .dataframe thead th {\n",
       "        text-align: right;\n",
       "    }\n",
       "</style>\n",
       "<table border=\"1\" class=\"dataframe\">\n",
       "  <thead>\n",
       "    <tr style=\"text-align: right;\">\n",
       "      <th></th>\n",
       "      <th>BiometricName</th>\n",
       "      <th>MeasuredOnWeek</th>\n",
       "      <th>Value</th>\n",
       "      <th>Gender</th>\n",
       "      <th>Age</th>\n",
       "    </tr>\n",
       "  </thead>\n",
       "  <tbody>\n",
       "    <tr>\n",
       "      <th>22390</th>\n",
       "      <td>Fat mass Perc</td>\n",
       "      <td>[19, 39, 46, 50]</td>\n",
       "      <td>[40.2, 38.3, 40.6, 39.0]</td>\n",
       "      <td>F</td>\n",
       "      <td>20</td>\n",
       "    </tr>\n",
       "    <tr>\n",
       "      <th>22407</th>\n",
       "      <td>Muscle Mass</td>\n",
       "      <td>[19, 39, 46, 50]</td>\n",
       "      <td>[53.4, 54.9, 51.7, 53.3]</td>\n",
       "      <td>F</td>\n",
       "      <td>20</td>\n",
       "    </tr>\n",
       "    <tr>\n",
       "      <th>22435</th>\n",
       "      <td>Weight</td>\n",
       "      <td>[19, 39, 46, 50]</td>\n",
       "      <td>[94.0, 93.7, 91.7, 92.0]</td>\n",
       "      <td>F</td>\n",
       "      <td>20</td>\n",
       "    </tr>\n",
       "  </tbody>\n",
       "</table>\n",
       "</div>"
      ],
      "text/plain": [
       "       BiometricName    MeasuredOnWeek                     Value Gender  Age\n",
       "22390  Fat mass Perc  [19, 39, 46, 50]  [40.2, 38.3, 40.6, 39.0]      F   20\n",
       "22407    Muscle Mass  [19, 39, 46, 50]  [53.4, 54.9, 51.7, 53.3]      F   20\n",
       "22435         Weight  [19, 39, 46, 50]  [94.0, 93.7, 91.7, 92.0]      F   20"
      ]
     },
     "execution_count": 77,
     "metadata": {},
     "output_type": "execute_result"
    }
   ],
   "source": [
    "user_bms = processed_biometrics[(processed_biometrics.CloudId == cloud_id) & (processed_biometrics.BiometricName.isin(targets))]\n",
    "user_bms_filtered = user_bms[['BiometricName', 'MeasuredOnWeek', 'Value', 'Gender', 'Age']]\n",
    "user_bms_filtered"
   ]
  },
  {
   "cell_type": "code",
   "execution_count": 86,
   "metadata": {},
   "outputs": [],
   "source": [
    "user_gender = user_bms_filtered['Gender'].iloc[0]\n",
    "user_age = user_bms_filtered['Age'].iloc[0]\n",
    "\n",
    "biometric_data_list = user_bms_filtered.drop(['Gender', 'Age'], axis=1).to_dict(orient='records')"
   ]
  },
  {
   "cell_type": "code",
   "execution_count": 91,
   "metadata": {},
   "outputs": [
    {
     "data": {
      "text/plain": [
       "[{'BiometricName': 'Fat mass Perc',\n",
       "  'MeasuredOnWeek': [19, 39, 46, 50],\n",
       "  'Value': [40.2, 38.3, 40.6, 39.0]},\n",
       " {'BiometricName': 'Muscle Mass',\n",
       "  'MeasuredOnWeek': [19, 39, 46, 50],\n",
       "  'Value': [53.4, 54.9, 51.7, 53.3]},\n",
       " {'BiometricName': 'Weight',\n",
       "  'MeasuredOnWeek': [19, 39, 46, 50],\n",
       "  'Value': [94.0, 93.7, 91.7, 92.0]}]"
      ]
     },
     "execution_count": 91,
     "metadata": {},
     "output_type": "execute_result"
    }
   ],
   "source": [
    "biometric_data_list"
   ]
  }
 ],
 "metadata": {
  "kernelspec": {
   "display_name": "xai-data",
   "language": "python",
   "name": "python3"
  },
  "language_info": {
   "codemirror_mode": {
    "name": "ipython",
    "version": 3
   },
   "file_extension": ".py",
   "mimetype": "text/x-python",
   "name": "python",
   "nbconvert_exporter": "python",
   "pygments_lexer": "ipython3",
   "version": "3.10.14"
  }
 },
 "nbformat": 4,
 "nbformat_minor": 2
}
