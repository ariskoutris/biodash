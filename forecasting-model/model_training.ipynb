{
 "cells": [
  {
   "cell_type": "code",
   "execution_count": 1,
   "metadata": {},
   "outputs": [],
   "source": [
    "import numpy as np\n",
    "import matplotlib.pyplot as plt\n",
    "import pandas as pd\n",
    "import re\n",
    "import pickle\n",
    "from darts.timeseries import TimeSeries\n",
    "from darts.models import RegressionModel\n",
    "from sklearn.linear_model import Ridge\n",
    "from darts.utils.missing_values import fill_missing_values as darts_fill_na\n",
    "from darts.dataprocessing import Pipeline\n",
    "from darts.dataprocessing.transformers import Scaler, StaticCovariatesTransformer, InvertibleMapper"
   ]
  },
  {
   "cell_type": "code",
   "execution_count": 2,
   "metadata": {},
   "outputs": [],
   "source": [
    "csv_dfs = {}\n",
    "csv_dfs['bq-results-20240418-170723-1713460063623'] = pd.read_csv('data/bq-results-20240418-170723-1713460063623.csv')"
   ]
  },
  {
   "cell_type": "markdown",
   "metadata": {},
   "source": [
    "# Training"
   ]
  },
  {
   "cell_type": "markdown",
   "metadata": {},
   "source": [
    "## Process Data"
   ]
  },
  {
   "cell_type": "markdown",
   "metadata": {},
   "source": [
    "### Biometrics"
   ]
  },
  {
   "cell_type": "code",
   "execution_count": 3,
   "metadata": {},
   "outputs": [],
   "source": [
    "biometrics = csv_dfs['bq-results-20240418-170723-1713460063623']\n",
    "biometrics.drop_duplicates(subset=['CloudId', 'BiometricName', 'MeasuredOnUTC', 'Value'], keep='first', inplace=True)\n",
    "\n",
    "def clean_timestamp(ts_str):\n",
    "    clean_str = re.sub(r'(\\d+:\\d+:\\d+)(\\.\\d+)?', r'\\1', ts_str)\n",
    "    return clean_str\n",
    "\n",
    "biometrics['MeasuredOn'] = biometrics['MeasuredOnUTC'].apply(clean_timestamp)\n",
    "biometrics['MeasuredOn'] = pd.to_datetime(biometrics['MeasuredOn'], errors='coerce')\n",
    "biometrics['MeasuredOnDate'] = biometrics['MeasuredOn'].dt.date\n",
    "biometrics['MeasuredOnDay'] = biometrics['MeasuredOn'].dt.dayofyear\n",
    "biometrics['MeasuredOnWeek'] = biometrics['MeasuredOn'].dt.isocalendar().week\n",
    "biometrics['MeasuredOnYear'] = biometrics['MeasuredOn'].dt.year\n",
    "biometrics.sort_values('MeasuredOnWeek', inplace=True)"
   ]
  },
  {
   "cell_type": "code",
   "execution_count": 4,
   "metadata": {},
   "outputs": [
    {
     "data": {
      "text/html": [
       "<div>\n",
       "<style scoped>\n",
       "    .dataframe tbody tr th:only-of-type {\n",
       "        vertical-align: middle;\n",
       "    }\n",
       "\n",
       "    .dataframe tbody tr th {\n",
       "        vertical-align: top;\n",
       "    }\n",
       "\n",
       "    .dataframe thead th {\n",
       "        text-align: right;\n",
       "    }\n",
       "</style>\n",
       "<table border=\"1\" class=\"dataframe\">\n",
       "  <thead>\n",
       "    <tr style=\"text-align: right;\">\n",
       "      <th></th>\n",
       "      <th>CloudId</th>\n",
       "      <th>BiometricName</th>\n",
       "      <th>MeasuredOnWeek</th>\n",
       "      <th>Value</th>\n",
       "    </tr>\n",
       "  </thead>\n",
       "  <tbody>\n",
       "    <tr>\n",
       "      <th>246107</th>\n",
       "      <td>74792f89a3085e1efca5ed52ee09545fc3139af4</td>\n",
       "      <td>Trunk Muscle Mass</td>\n",
       "      <td>38</td>\n",
       "      <td>37.90</td>\n",
       "    </tr>\n",
       "    <tr>\n",
       "      <th>286502</th>\n",
       "      <td>8615cfa851846e05c419065ddadc75d211927eb9</td>\n",
       "      <td>Weight Control</td>\n",
       "      <td>34</td>\n",
       "      <td>5.80</td>\n",
       "    </tr>\n",
       "    <tr>\n",
       "      <th>495698</th>\n",
       "      <td>ed73fa777cdda963e88d416997289f3f7db67f13</td>\n",
       "      <td>Fat Mass Perc of Ideal Trunk</td>\n",
       "      <td>20</td>\n",
       "      <td>130.95</td>\n",
       "    </tr>\n",
       "    <tr>\n",
       "      <th>84625</th>\n",
       "      <td>28603ef9404e80c22b0eb0e4a5b79043b30ca7a5</td>\n",
       "      <td>Right Arm Fat Perc</td>\n",
       "      <td>48</td>\n",
       "      <td>21.00</td>\n",
       "    </tr>\n",
       "    <tr>\n",
       "      <th>342368</th>\n",
       "      <td>a204a2247252f5eef74d603d672202d8ad9733d5</td>\n",
       "      <td>Height</td>\n",
       "      <td>27</td>\n",
       "      <td>173.00</td>\n",
       "    </tr>\n",
       "  </tbody>\n",
       "</table>\n",
       "</div>"
      ],
      "text/plain": [
       "                                         CloudId  \\\n",
       "246107  74792f89a3085e1efca5ed52ee09545fc3139af4   \n",
       "286502  8615cfa851846e05c419065ddadc75d211927eb9   \n",
       "495698  ed73fa777cdda963e88d416997289f3f7db67f13   \n",
       "84625   28603ef9404e80c22b0eb0e4a5b79043b30ca7a5   \n",
       "342368  a204a2247252f5eef74d603d672202d8ad9733d5   \n",
       "\n",
       "                       BiometricName  MeasuredOnWeek   Value  \n",
       "246107             Trunk Muscle Mass              38   37.90  \n",
       "286502                Weight Control              34    5.80  \n",
       "495698  Fat Mass Perc of Ideal Trunk              20  130.95  \n",
       "84625             Right Arm Fat Perc              48   21.00  \n",
       "342368                        Height              27  173.00  "
      ]
     },
     "execution_count": 4,
     "metadata": {},
     "output_type": "execute_result"
    }
   ],
   "source": [
    "bms = biometrics.drop(columns=['Age', 'Gender', 'MeasureProvidedBy', 'MeasuredOnUTC', 'MeasuredOn', 'MeasuredOnDate', 'MeasuredOnYear'])\n",
    "bms = bms.groupby(['CloudId', 'BiometricName', 'MeasuredOnWeek']).agg({'Value': 'mean'}).reset_index()\n",
    "bms.sample(5)"
   ]
  },
  {
   "cell_type": "code",
   "execution_count": 5,
   "metadata": {},
   "outputs": [
    {
     "data": {
      "text/html": [
       "<div>\n",
       "<style scoped>\n",
       "    .dataframe tbody tr th:only-of-type {\n",
       "        vertical-align: middle;\n",
       "    }\n",
       "\n",
       "    .dataframe tbody tr th {\n",
       "        vertical-align: top;\n",
       "    }\n",
       "\n",
       "    .dataframe thead tr th {\n",
       "        text-align: left;\n",
       "    }\n",
       "</style>\n",
       "<table border=\"1\" class=\"dataframe\">\n",
       "  <thead>\n",
       "    <tr>\n",
       "      <th></th>\n",
       "      <th>CloudId</th>\n",
       "      <th>BiometricName</th>\n",
       "      <th colspan=\"2\" halign=\"left\">MeasuredOnWeek</th>\n",
       "      <th>Value</th>\n",
       "    </tr>\n",
       "    <tr>\n",
       "      <th></th>\n",
       "      <th></th>\n",
       "      <th></th>\n",
       "      <th>list</th>\n",
       "      <th>count</th>\n",
       "      <th>list</th>\n",
       "    </tr>\n",
       "  </thead>\n",
       "  <tbody>\n",
       "    <tr>\n",
       "      <th>170336</th>\n",
       "      <td>bc455b0171009f42a281fa47b6b183fc6d111335</td>\n",
       "      <td>Muscle Mass Balance Leg</td>\n",
       "      <td>[47, 50]</td>\n",
       "      <td>2</td>\n",
       "      <td>[1.0, 1.0]</td>\n",
       "    </tr>\n",
       "    <tr>\n",
       "      <th>135906</th>\n",
       "      <td>951ef46e7121a12c39f524858ec6dc1ec1cf29ff</td>\n",
       "      <td>Right Leg Muscle Mass</td>\n",
       "      <td>[47, 50]</td>\n",
       "      <td>2</td>\n",
       "      <td>[13.2, 13.2]</td>\n",
       "    </tr>\n",
       "    <tr>\n",
       "      <th>176384</th>\n",
       "      <td>c20c89506e54b2c8d14cdb46318e016b6dd20732</td>\n",
       "      <td>Right Leg Fat Free Mass</td>\n",
       "      <td>[21]</td>\n",
       "      <td>1</td>\n",
       "      <td>[6.2]</td>\n",
       "    </tr>\n",
       "    <tr>\n",
       "      <th>207073</th>\n",
       "      <td>e30bc72867ee5ce84db37ccab3121b93eea80dfb</td>\n",
       "      <td>HR At Rest</td>\n",
       "      <td>[18, 20, 22, 27]</td>\n",
       "      <td>4</td>\n",
       "      <td>[91.0, 79.66666666666667, 90.0, 84.0]</td>\n",
       "    </tr>\n",
       "    <tr>\n",
       "      <th>86548</th>\n",
       "      <td>5f427a8a5cf7977cd05946200a47be96a6434355</td>\n",
       "      <td>Fat Mass Perc of Ideal Left Leg</td>\n",
       "      <td>[25, 50]</td>\n",
       "      <td>2</td>\n",
       "      <td>[123.46, 90.13]</td>\n",
       "    </tr>\n",
       "  </tbody>\n",
       "</table>\n",
       "</div>"
      ],
      "text/plain": [
       "                                         CloudId  \\\n",
       "                                                   \n",
       "170336  bc455b0171009f42a281fa47b6b183fc6d111335   \n",
       "135906  951ef46e7121a12c39f524858ec6dc1ec1cf29ff   \n",
       "176384  c20c89506e54b2c8d14cdb46318e016b6dd20732   \n",
       "207073  e30bc72867ee5ce84db37ccab3121b93eea80dfb   \n",
       "86548   5f427a8a5cf7977cd05946200a47be96a6434355   \n",
       "\n",
       "                          BiometricName    MeasuredOnWeek        \\\n",
       "                                                     list count   \n",
       "170336          Muscle Mass Balance Leg          [47, 50]     2   \n",
       "135906            Right Leg Muscle Mass          [47, 50]     2   \n",
       "176384          Right Leg Fat Free Mass              [21]     1   \n",
       "207073                       HR At Rest  [18, 20, 22, 27]     4   \n",
       "86548   Fat Mass Perc of Ideal Left Leg          [25, 50]     2   \n",
       "\n",
       "                                        Value  \n",
       "                                         list  \n",
       "170336                             [1.0, 1.0]  \n",
       "135906                           [13.2, 13.2]  \n",
       "176384                                  [6.2]  \n",
       "207073  [91.0, 79.66666666666667, 90.0, 84.0]  \n",
       "86548                         [123.46, 90.13]  "
      ]
     },
     "execution_count": 5,
     "metadata": {},
     "output_type": "execute_result"
    }
   ],
   "source": [
    "grouped_bms = bms.groupby(['CloudId', 'BiometricName']).agg({'MeasuredOnWeek': [list, 'count'], 'Value': list})\n",
    "grouped_bms = grouped_bms.reset_index()\n",
    "grouped_bms.sample(5)"
   ]
  },
  {
   "cell_type": "markdown",
   "metadata": {},
   "source": [
    "Use only (CloudId, BiometricName) pairs with more than 3 measurements and spanning over at least 24 weeks."
   ]
  },
  {
   "cell_type": "code",
   "execution_count": 6,
   "metadata": {},
   "outputs": [
    {
     "name": "stdout",
     "output_type": "stream",
     "text": [
      "Total number of (CloudId, BiometricName) pairs: 234079\n",
      "Number of pairs with long interval: 38935 (16.63%)\n",
      "Number of pairs with many measurements: 38991 (16.66%)\n",
      "Number of pairs with both long interval and many measurements: 25394 (10.85%)\n"
     ]
    }
   ],
   "source": [
    "has_long_interval = grouped_bms[('MeasuredOnWeek', 'list')].apply(lambda x: max(x) - min(x) >= 24)\n",
    "has_many_measurements = grouped_bms[('MeasuredOnWeek', 'count')] > 3\n",
    "print(f'Total number of (CloudId, BiometricName) pairs: {len(grouped_bms)}')\n",
    "print(f'Number of pairs with long interval: {has_long_interval.sum()} ({has_long_interval.sum() / len(grouped_bms) * 100:.2f}%)')\n",
    "print(f'Number of pairs with many measurements: {has_many_measurements.sum()} ({has_many_measurements.sum() / len(grouped_bms) * 100:.2f}%)')\n",
    "print(f'Number of pairs with both long interval and many measurements: {(has_long_interval & has_many_measurements).sum()} ({(has_long_interval & has_many_measurements).sum() / len(grouped_bms) * 100:.2f}%)')\n",
    "filtered_group_bms = grouped_bms[has_long_interval & has_many_measurements]"
   ]
  },
  {
   "cell_type": "markdown",
   "metadata": {},
   "source": []
  },
  {
   "cell_type": "code",
   "execution_count": 7,
   "metadata": {},
   "outputs": [
    {
     "data": {
      "text/html": [
       "<div>\n",
       "<style scoped>\n",
       "    .dataframe tbody tr th:only-of-type {\n",
       "        vertical-align: middle;\n",
       "    }\n",
       "\n",
       "    .dataframe tbody tr th {\n",
       "        vertical-align: top;\n",
       "    }\n",
       "\n",
       "    .dataframe thead th {\n",
       "        text-align: right;\n",
       "    }\n",
       "</style>\n",
       "<table border=\"1\" class=\"dataframe\">\n",
       "  <thead>\n",
       "    <tr style=\"text-align: right;\">\n",
       "      <th></th>\n",
       "      <th>CloudId</th>\n",
       "      <th>BiometricName</th>\n",
       "      <th>MeasuredOnWeek</th>\n",
       "      <th>Value</th>\n",
       "    </tr>\n",
       "  </thead>\n",
       "  <tbody>\n",
       "    <tr>\n",
       "      <th>70323</th>\n",
       "      <td>62d50cfdc505a9fe0e9668fd1685ecd5d7af17a2</td>\n",
       "      <td>Trunk Fat Perc</td>\n",
       "      <td>48</td>\n",
       "      <td>22.70</td>\n",
       "    </tr>\n",
       "    <tr>\n",
       "      <th>79116</th>\n",
       "      <td>70cd133294e9b7ca53da0380be1bd343fd3e63b5</td>\n",
       "      <td>Left Leg Fat Free Mass</td>\n",
       "      <td>41</td>\n",
       "      <td>6.16</td>\n",
       "    </tr>\n",
       "    <tr>\n",
       "      <th>120785</th>\n",
       "      <td>abb9615e8abe222d513eb88a1b04b25211805e18</td>\n",
       "      <td>Left Arm Fat Mass</td>\n",
       "      <td>34</td>\n",
       "      <td>1.30</td>\n",
       "    </tr>\n",
       "    <tr>\n",
       "      <th>22448</th>\n",
       "      <td>1f5150f16d8be0c6fb4b600e5be5726aa7593c86</td>\n",
       "      <td>HR At Rest</td>\n",
       "      <td>41</td>\n",
       "      <td>63.00</td>\n",
       "    </tr>\n",
       "    <tr>\n",
       "      <th>81876</th>\n",
       "      <td>74808050fabcd04d884b449389ac66c6749abbc7</td>\n",
       "      <td>Left Arm Muscle Mass</td>\n",
       "      <td>27</td>\n",
       "      <td>2.90</td>\n",
       "    </tr>\n",
       "  </tbody>\n",
       "</table>\n",
       "</div>"
      ],
      "text/plain": [
       "                                         CloudId           BiometricName  \\\n",
       "70323   62d50cfdc505a9fe0e9668fd1685ecd5d7af17a2          Trunk Fat Perc   \n",
       "79116   70cd133294e9b7ca53da0380be1bd343fd3e63b5  Left Leg Fat Free Mass   \n",
       "120785  abb9615e8abe222d513eb88a1b04b25211805e18       Left Arm Fat Mass   \n",
       "22448   1f5150f16d8be0c6fb4b600e5be5726aa7593c86              HR At Rest   \n",
       "81876   74808050fabcd04d884b449389ac66c6749abbc7    Left Arm Muscle Mass   \n",
       "\n",
       "        MeasuredOnWeek  Value  \n",
       "70323               48  22.70  \n",
       "79116               41   6.16  \n",
       "120785              34   1.30  \n",
       "22448               41  63.00  \n",
       "81876               27   2.90  "
      ]
     },
     "execution_count": 7,
     "metadata": {},
     "output_type": "execute_result"
    }
   ],
   "source": [
    "filtered_bms = filtered_group_bms.explode(column=[('MeasuredOnWeek', 'list'), ('Value', 'list')], ignore_index=True)\n",
    "filtered_bms = filtered_bms.drop(columns=[('MeasuredOnWeek', 'count')])\n",
    "filtered_bms.columns = [col[0] for col in filtered_bms.columns]\n",
    "filtered_bms = filtered_bms.astype({'MeasuredOnWeek': 'int32', 'Value': 'float64'})\n",
    "filtered_bms.sample(5)"
   ]
  },
  {
   "cell_type": "markdown",
   "metadata": {},
   "source": [
    "Compute time series for each Cloud ID, Biomertric pair"
   ]
  },
  {
   "cell_type": "code",
   "execution_count": 8,
   "metadata": {},
   "outputs": [
    {
     "data": {
      "text/html": [
       "<div>\n",
       "<style scoped>\n",
       "    .dataframe tbody tr th:only-of-type {\n",
       "        vertical-align: middle;\n",
       "    }\n",
       "\n",
       "    .dataframe tbody tr th {\n",
       "        vertical-align: top;\n",
       "    }\n",
       "\n",
       "    .dataframe thead th {\n",
       "        text-align: right;\n",
       "    }\n",
       "</style>\n",
       "<table border=\"1\" class=\"dataframe\">\n",
       "  <thead>\n",
       "    <tr style=\"text-align: right;\">\n",
       "      <th></th>\n",
       "      <th>CloudId</th>\n",
       "      <th>BiometricName</th>\n",
       "      <th>MeasuredOnWeek</th>\n",
       "      <th>Value</th>\n",
       "    </tr>\n",
       "  </thead>\n",
       "  <tbody>\n",
       "    <tr>\n",
       "      <th>25244</th>\n",
       "      <td>fd4460a13270ad1567e4838d76193693e12c287f</td>\n",
       "      <td>Right Arm Fat Mass</td>\n",
       "      <td>[20, 34, 38, 41, 46]</td>\n",
       "      <td>[0.9, 0.9, 0.9, 0.9, 1.0]</td>\n",
       "    </tr>\n",
       "    <tr>\n",
       "      <th>14060</th>\n",
       "      <td>886200145bad0d6be610de05e556a09d7cdac3da</td>\n",
       "      <td>Total Body Water Perc</td>\n",
       "      <td>[20, 27, 38, 48]</td>\n",
       "      <td>[57.0, 56.7, 57.2, 57.1]</td>\n",
       "    </tr>\n",
       "    <tr>\n",
       "      <th>2658</th>\n",
       "      <td>14e869e68963a6b61a74f74cd964e82ba661b14b</td>\n",
       "      <td>Trunk Fat Perc</td>\n",
       "      <td>[18, 20, 27, 50]</td>\n",
       "      <td>[16.3, 19.0, 17.6, 12.2]</td>\n",
       "    </tr>\n",
       "    <tr>\n",
       "      <th>17879</th>\n",
       "      <td>ada1a289ebb2145c5f4c08e3d101bfa8f1d5db36</td>\n",
       "      <td>Weight</td>\n",
       "      <td>[20, 22, 38, 47]</td>\n",
       "      <td>[52.6, 52.7, 52.3, 53.3]</td>\n",
       "    </tr>\n",
       "    <tr>\n",
       "      <th>8250</th>\n",
       "      <td>50b7d9701d3a33c4a1db979928a15ff9a87a3617</td>\n",
       "      <td>Bone Mass</td>\n",
       "      <td>[22, 38, 39, 48]</td>\n",
       "      <td>[2.5, 2.5, 2.5, 2.4]</td>\n",
       "    </tr>\n",
       "  </tbody>\n",
       "</table>\n",
       "</div>"
      ],
      "text/plain": [
       "                                        CloudId          BiometricName  \\\n",
       "25244  fd4460a13270ad1567e4838d76193693e12c287f     Right Arm Fat Mass   \n",
       "14060  886200145bad0d6be610de05e556a09d7cdac3da  Total Body Water Perc   \n",
       "2658   14e869e68963a6b61a74f74cd964e82ba661b14b         Trunk Fat Perc   \n",
       "17879  ada1a289ebb2145c5f4c08e3d101bfa8f1d5db36                 Weight   \n",
       "8250   50b7d9701d3a33c4a1db979928a15ff9a87a3617              Bone Mass   \n",
       "\n",
       "             MeasuredOnWeek                      Value  \n",
       "25244  [20, 34, 38, 41, 46]  [0.9, 0.9, 0.9, 0.9, 1.0]  \n",
       "14060      [20, 27, 38, 48]   [57.0, 56.7, 57.2, 57.1]  \n",
       "2658       [18, 20, 27, 50]   [16.3, 19.0, 17.6, 12.2]  \n",
       "17879      [20, 22, 38, 47]   [52.6, 52.7, 52.3, 53.3]  \n",
       "8250       [22, 38, 39, 48]       [2.5, 2.5, 2.5, 2.4]  "
      ]
     },
     "execution_count": 8,
     "metadata": {},
     "output_type": "execute_result"
    }
   ],
   "source": [
    "bms_df = filtered_bms.groupby(['CloudId', 'BiometricName']).agg({'MeasuredOnWeek': list, 'Value': list}).reset_index()\n",
    "bms_df.sample(5)"
   ]
  },
  {
   "cell_type": "code",
   "execution_count": 9,
   "metadata": {},
   "outputs": [],
   "source": [
    "bms_df.rename(columns={'BiometricName': 'Name', 'MeasuredOnWeek': 'Week', 'Value': 'Value'}, inplace=True)"
   ]
  },
  {
   "cell_type": "markdown",
   "metadata": {},
   "source": [
    "### Static Features"
   ]
  },
  {
   "cell_type": "markdown",
   "metadata": {},
   "source": [
    "Add gender and age as static covariates"
   ]
  },
  {
   "cell_type": "code",
   "execution_count": 10,
   "metadata": {},
   "outputs": [],
   "source": [
    "static_cov_df = biometrics[['CloudId', 'Gender', 'Age']].drop_duplicates(subset='CloudId')\n",
    "\n",
    "df = bms_df.merge(static_cov_df, on='CloudId')\n",
    "reordered_cols = ['CloudId', 'Gender', 'Age', 'Name', 'Week', 'Value'] \n",
    "df = df.reindex(columns=reordered_cols)"
   ]
  },
  {
   "cell_type": "markdown",
   "metadata": {},
   "source": [
    "### Exercise Data"
   ]
  },
  {
   "cell_type": "code",
   "execution_count": 11,
   "metadata": {},
   "outputs": [],
   "source": [
    "exercises = pd.read_pickle('data/exercise_df.pkl')"
   ]
  },
  {
   "cell_type": "code",
   "execution_count": 12,
   "metadata": {},
   "outputs": [
    {
     "data": {
      "text/html": [
       "<div>\n",
       "<style scoped>\n",
       "    .dataframe tbody tr th:only-of-type {\n",
       "        vertical-align: middle;\n",
       "    }\n",
       "\n",
       "    .dataframe tbody tr th {\n",
       "        vertical-align: top;\n",
       "    }\n",
       "\n",
       "    .dataframe thead th {\n",
       "        text-align: right;\n",
       "    }\n",
       "</style>\n",
       "<table border=\"1\" class=\"dataframe\">\n",
       "  <thead>\n",
       "    <tr style=\"text-align: right;\">\n",
       "      <th></th>\n",
       "      <th>CloudId</th>\n",
       "      <th>Year</th>\n",
       "      <th>Week</th>\n",
       "      <th>total_calories_week</th>\n",
       "      <th>total_minutes_week</th>\n",
       "      <th>cardio_calories_week</th>\n",
       "      <th>cardio_minutes_week</th>\n",
       "      <th>isotonic_calories_week</th>\n",
       "      <th>isotonic_minutes_week</th>\n",
       "      <th>avg_duration_per_workout</th>\n",
       "      <th>avg_calories_per_workout</th>\n",
       "      <th>avg_metsmin_workout</th>\n",
       "      <th>avg_isotonic_workouts</th>\n",
       "      <th>avg_cardio_workouts</th>\n",
       "    </tr>\n",
       "  </thead>\n",
       "  <tbody>\n",
       "    <tr>\n",
       "      <th>0</th>\n",
       "      <td>0015d65e3205deb6bb6a8f0d57cc48547918f0f2</td>\n",
       "      <td>2021</td>\n",
       "      <td>20</td>\n",
       "      <td>487.0</td>\n",
       "      <td>3775</td>\n",
       "      <td>218.0</td>\n",
       "      <td>1260.0</td>\n",
       "      <td>269.0</td>\n",
       "      <td>2515.0</td>\n",
       "      <td>3775.000000</td>\n",
       "      <td>487.000000</td>\n",
       "      <td>56.900000</td>\n",
       "      <td>9.0</td>\n",
       "      <td>2.0</td>\n",
       "    </tr>\n",
       "    <tr>\n",
       "      <th>1</th>\n",
       "      <td>0015d65e3205deb6bb6a8f0d57cc48547918f0f2</td>\n",
       "      <td>2021</td>\n",
       "      <td>21</td>\n",
       "      <td>1918.0</td>\n",
       "      <td>12326</td>\n",
       "      <td>1120.0</td>\n",
       "      <td>4800.0</td>\n",
       "      <td>798.0</td>\n",
       "      <td>7526.0</td>\n",
       "      <td>4108.666667</td>\n",
       "      <td>639.333333</td>\n",
       "      <td>60.966667</td>\n",
       "      <td>27.0</td>\n",
       "      <td>6.0</td>\n",
       "    </tr>\n",
       "    <tr>\n",
       "      <th>4</th>\n",
       "      <td>0015d65e3205deb6bb6a8f0d57cc48547918f0f2</td>\n",
       "      <td>2021</td>\n",
       "      <td>22</td>\n",
       "      <td>1093.0</td>\n",
       "      <td>8237</td>\n",
       "      <td>553.0</td>\n",
       "      <td>2945.0</td>\n",
       "      <td>540.0</td>\n",
       "      <td>5292.0</td>\n",
       "      <td>4118.500000</td>\n",
       "      <td>546.500000</td>\n",
       "      <td>55.450000</td>\n",
       "      <td>18.0</td>\n",
       "      <td>4.0</td>\n",
       "    </tr>\n",
       "    <tr>\n",
       "      <th>6</th>\n",
       "      <td>0015d65e3205deb6bb6a8f0d57cc48547918f0f2</td>\n",
       "      <td>2021</td>\n",
       "      <td>23</td>\n",
       "      <td>321.0</td>\n",
       "      <td>1902</td>\n",
       "      <td>169.0</td>\n",
       "      <td>900.0</td>\n",
       "      <td>152.0</td>\n",
       "      <td>1002.0</td>\n",
       "      <td>1902.000000</td>\n",
       "      <td>321.000000</td>\n",
       "      <td>38.100000</td>\n",
       "      <td>4.0</td>\n",
       "      <td>2.0</td>\n",
       "    </tr>\n",
       "    <tr>\n",
       "      <th>7</th>\n",
       "      <td>0015d65e3205deb6bb6a8f0d57cc48547918f0f2</td>\n",
       "      <td>2021</td>\n",
       "      <td>24</td>\n",
       "      <td>1129.0</td>\n",
       "      <td>8075</td>\n",
       "      <td>585.0</td>\n",
       "      <td>3000.0</td>\n",
       "      <td>544.0</td>\n",
       "      <td>5075.0</td>\n",
       "      <td>4037.500000</td>\n",
       "      <td>564.500000</td>\n",
       "      <td>58.500000</td>\n",
       "      <td>18.0</td>\n",
       "      <td>4.0</td>\n",
       "    </tr>\n",
       "    <tr>\n",
       "      <th>...</th>\n",
       "      <td>...</td>\n",
       "      <td>...</td>\n",
       "      <td>...</td>\n",
       "      <td>...</td>\n",
       "      <td>...</td>\n",
       "      <td>...</td>\n",
       "      <td>...</td>\n",
       "      <td>...</td>\n",
       "      <td>...</td>\n",
       "      <td>...</td>\n",
       "      <td>...</td>\n",
       "      <td>...</td>\n",
       "      <td>...</td>\n",
       "      <td>...</td>\n",
       "    </tr>\n",
       "    <tr>\n",
       "      <th>364745</th>\n",
       "      <td>fffb154edf22df2daca3c00042c99166f3f55fb7</td>\n",
       "      <td>2021</td>\n",
       "      <td>38</td>\n",
       "      <td>490.0</td>\n",
       "      <td>3928</td>\n",
       "      <td>266.0</td>\n",
       "      <td>1200.0</td>\n",
       "      <td>224.0</td>\n",
       "      <td>2728.0</td>\n",
       "      <td>3928.000000</td>\n",
       "      <td>490.000000</td>\n",
       "      <td>45.100000</td>\n",
       "      <td>10.0</td>\n",
       "      <td>1.0</td>\n",
       "    </tr>\n",
       "    <tr>\n",
       "      <th>364746</th>\n",
       "      <td>fffb154edf22df2daca3c00042c99166f3f55fb7</td>\n",
       "      <td>2021</td>\n",
       "      <td>44</td>\n",
       "      <td>262.0</td>\n",
       "      <td>1500</td>\n",
       "      <td>243.0</td>\n",
       "      <td>1200.0</td>\n",
       "      <td>19.0</td>\n",
       "      <td>300.0</td>\n",
       "      <td>1500.000000</td>\n",
       "      <td>262.000000</td>\n",
       "      <td>11.200000</td>\n",
       "      <td>1.0</td>\n",
       "      <td>1.0</td>\n",
       "    </tr>\n",
       "    <tr>\n",
       "      <th>364747</th>\n",
       "      <td>fffb154edf22df2daca3c00042c99166f3f55fb7</td>\n",
       "      <td>2021</td>\n",
       "      <td>45</td>\n",
       "      <td>564.0</td>\n",
       "      <td>4549</td>\n",
       "      <td>280.0</td>\n",
       "      <td>1200.0</td>\n",
       "      <td>284.0</td>\n",
       "      <td>3349.0</td>\n",
       "      <td>4549.000000</td>\n",
       "      <td>564.000000</td>\n",
       "      <td>55.900000</td>\n",
       "      <td>13.0</td>\n",
       "      <td>1.0</td>\n",
       "    </tr>\n",
       "    <tr>\n",
       "      <th>364748</th>\n",
       "      <td>fffb154edf22df2daca3c00042c99166f3f55fb7</td>\n",
       "      <td>2021</td>\n",
       "      <td>46</td>\n",
       "      <td>351.0</td>\n",
       "      <td>2208</td>\n",
       "      <td>261.0</td>\n",
       "      <td>1200.0</td>\n",
       "      <td>90.0</td>\n",
       "      <td>1008.0</td>\n",
       "      <td>2208.000000</td>\n",
       "      <td>351.000000</td>\n",
       "      <td>24.100000</td>\n",
       "      <td>4.0</td>\n",
       "      <td>1.0</td>\n",
       "    </tr>\n",
       "    <tr>\n",
       "      <th>364749</th>\n",
       "      <td>fffb154edf22df2daca3c00042c99166f3f55fb7</td>\n",
       "      <td>2021</td>\n",
       "      <td>47</td>\n",
       "      <td>277.0</td>\n",
       "      <td>1200</td>\n",
       "      <td>277.0</td>\n",
       "      <td>1200.0</td>\n",
       "      <td>0.0</td>\n",
       "      <td>0.0</td>\n",
       "      <td>1200.000000</td>\n",
       "      <td>277.000000</td>\n",
       "      <td>9.800000</td>\n",
       "      <td>0.0</td>\n",
       "      <td>1.0</td>\n",
       "    </tr>\n",
       "  </tbody>\n",
       "</table>\n",
       "<p>152397 rows × 14 columns</p>\n",
       "</div>"
      ],
      "text/plain": [
       "                                         CloudId  Year  Week  \\\n",
       "0       0015d65e3205deb6bb6a8f0d57cc48547918f0f2  2021    20   \n",
       "1       0015d65e3205deb6bb6a8f0d57cc48547918f0f2  2021    21   \n",
       "4       0015d65e3205deb6bb6a8f0d57cc48547918f0f2  2021    22   \n",
       "6       0015d65e3205deb6bb6a8f0d57cc48547918f0f2  2021    23   \n",
       "7       0015d65e3205deb6bb6a8f0d57cc48547918f0f2  2021    24   \n",
       "...                                          ...   ...   ...   \n",
       "364745  fffb154edf22df2daca3c00042c99166f3f55fb7  2021    38   \n",
       "364746  fffb154edf22df2daca3c00042c99166f3f55fb7  2021    44   \n",
       "364747  fffb154edf22df2daca3c00042c99166f3f55fb7  2021    45   \n",
       "364748  fffb154edf22df2daca3c00042c99166f3f55fb7  2021    46   \n",
       "364749  fffb154edf22df2daca3c00042c99166f3f55fb7  2021    47   \n",
       "\n",
       "        total_calories_week  total_minutes_week  cardio_calories_week  \\\n",
       "0                     487.0                3775                 218.0   \n",
       "1                    1918.0               12326                1120.0   \n",
       "4                    1093.0                8237                 553.0   \n",
       "6                     321.0                1902                 169.0   \n",
       "7                    1129.0                8075                 585.0   \n",
       "...                     ...                 ...                   ...   \n",
       "364745                490.0                3928                 266.0   \n",
       "364746                262.0                1500                 243.0   \n",
       "364747                564.0                4549                 280.0   \n",
       "364748                351.0                2208                 261.0   \n",
       "364749                277.0                1200                 277.0   \n",
       "\n",
       "        cardio_minutes_week  isotonic_calories_week  isotonic_minutes_week  \\\n",
       "0                    1260.0                   269.0                 2515.0   \n",
       "1                    4800.0                   798.0                 7526.0   \n",
       "4                    2945.0                   540.0                 5292.0   \n",
       "6                     900.0                   152.0                 1002.0   \n",
       "7                    3000.0                   544.0                 5075.0   \n",
       "...                     ...                     ...                    ...   \n",
       "364745               1200.0                   224.0                 2728.0   \n",
       "364746               1200.0                    19.0                  300.0   \n",
       "364747               1200.0                   284.0                 3349.0   \n",
       "364748               1200.0                    90.0                 1008.0   \n",
       "364749               1200.0                     0.0                    0.0   \n",
       "\n",
       "        avg_duration_per_workout  avg_calories_per_workout  \\\n",
       "0                    3775.000000                487.000000   \n",
       "1                    4108.666667                639.333333   \n",
       "4                    4118.500000                546.500000   \n",
       "6                    1902.000000                321.000000   \n",
       "7                    4037.500000                564.500000   \n",
       "...                          ...                       ...   \n",
       "364745               3928.000000                490.000000   \n",
       "364746               1500.000000                262.000000   \n",
       "364747               4549.000000                564.000000   \n",
       "364748               2208.000000                351.000000   \n",
       "364749               1200.000000                277.000000   \n",
       "\n",
       "        avg_metsmin_workout  avg_isotonic_workouts  avg_cardio_workouts  \n",
       "0                 56.900000                    9.0                  2.0  \n",
       "1                 60.966667                   27.0                  6.0  \n",
       "4                 55.450000                   18.0                  4.0  \n",
       "6                 38.100000                    4.0                  2.0  \n",
       "7                 58.500000                   18.0                  4.0  \n",
       "...                     ...                    ...                  ...  \n",
       "364745            45.100000                   10.0                  1.0  \n",
       "364746            11.200000                    1.0                  1.0  \n",
       "364747            55.900000                   13.0                  1.0  \n",
       "364748            24.100000                    4.0                  1.0  \n",
       "364749             9.800000                    0.0                  1.0  \n",
       "\n",
       "[152397 rows x 14 columns]"
      ]
     },
     "execution_count": 12,
     "metadata": {},
     "output_type": "execute_result"
    }
   ],
   "source": [
    "exercises"
   ]
  },
  {
   "cell_type": "code",
   "execution_count": 13,
   "metadata": {},
   "outputs": [],
   "source": [
    "exercises_df = exercises.groupby('CloudId').agg(\n",
    "    {\n",
    "    'Week': list,\n",
    "    'total_calories_week': list,\n",
    "    'total_minutes_week': list,\n",
    "    'cardio_calories_week': list,\n",
    "    'cardio_minutes_week': list,\n",
    "    'isotonic_calories_week': list,\n",
    "    'isotonic_minutes_week': list,\n",
    "    'avg_duration_per_workout': list,\n",
    "    'avg_calories_per_workout': list,\n",
    "    'avg_metsmin_workout': list,\n",
    "    'avg_isotonic_workouts': list,\n",
    "    'avg_cardio_workouts': list\n",
    "     }\n",
    ").reset_index()"
   ]
  },
  {
   "cell_type": "code",
   "execution_count": 14,
   "metadata": {},
   "outputs": [],
   "source": [
    "ts_df = df.merge(exercises_df, on='CloudId')\n",
    "\n",
    "# remove _x and _y from column names\n",
    "def strip_col_suffix(col):\n",
    "    return re.sub(r'_[xy]$', '', col)\n",
    "\n",
    "ts_df.columns = pd.MultiIndex.from_tuples(\n",
    "    [('CloudId', ''), ('Gender', ''), ('Age', '')] + \n",
    "    [('Biometrics', strip_col_suffix(col)) for col in ts_df.columns[3:6]] +\n",
    "    [('Exercise', strip_col_suffix(col)) for col in ts_df.columns[6:]])"
   ]
  },
  {
   "cell_type": "code",
   "execution_count": 15,
   "metadata": {},
   "outputs": [],
   "source": [
    "ts_df.to_pickle('processed_dataset.pkl')"
   ]
  },
  {
   "cell_type": "markdown",
   "metadata": {},
   "source": [
    "### Compare time spans"
   ]
  },
  {
   "cell_type": "markdown",
   "metadata": {},
   "source": [
    "## TimeSeries Creation"
   ]
  },
  {
   "cell_type": "markdown",
   "metadata": {},
   "source": [
    "Other tasks:\n",
    "- Exercise features should be encoded as covariates\n",
    "- Month could also be encoded as covariate\n",
    "- Consider using other abundant biometrics as covariates"
   ]
  },
  {
   "cell_type": "code",
   "execution_count": 16,
   "metadata": {},
   "outputs": [],
   "source": [
    "ts_df = pd.read_pickle('processed_dataset.pkl')"
   ]
  },
  {
   "cell_type": "code",
   "execution_count": 17,
   "metadata": {},
   "outputs": [],
   "source": [
    "ex_df = ts_df[['CloudId', 'Exercise']].drop_duplicates(subset=('CloudId', ''))\n",
    "bm_df = ts_df[['CloudId', 'Gender', 'Age', 'Biometrics']]"
   ]
  },
  {
   "cell_type": "code",
   "execution_count": 18,
   "metadata": {},
   "outputs": [],
   "source": [
    "def create_bm_timeseries(row):\n",
    "    times = pd.Index(row[('Biometrics', 'Week')])\n",
    "    values = row[('Biometrics', 'Value')]\n",
    "    covs = pd.DataFrame(data={ 'Gender': [row[('Gender', '')]], 'Age': [row[('Age', '')]] })\n",
    "    ts = TimeSeries.from_times_and_values(times=times, values=values, columns=[row[('Biometrics', 'Name')]], static_covariates=covs, freq=1)\n",
    "    filled_ts = darts_fill_na(ts, fill='auto').astype(np.float32)\n",
    "    return filled_ts\n",
    "\n",
    "def create_ex_timeseries(row):\n",
    "    times = pd.Index(row[('Exercise', 'Week')])\n",
    "    agg_ts = None\n",
    "    for col in ex_df['Exercise'].columns:\n",
    "        if col == 'Week':\n",
    "            continue\n",
    "        values = row[('Exercise', col)]\n",
    "        ts = TimeSeries.from_times_and_values(times=times, values=values, columns=[col], freq=1)\n",
    "        ts = darts_fill_na(ts, fill=0.).astype(np.float32)\n",
    "        if agg_ts is None:\n",
    "            agg_ts = ts\n",
    "        else:\n",
    "            agg_ts = agg_ts.stack(ts)\n",
    "    return agg_ts"
   ]
  },
  {
   "cell_type": "code",
   "execution_count": 19,
   "metadata": {},
   "outputs": [],
   "source": [
    "bm_tms = bm_df.apply(create_bm_timeseries, axis=1)\n",
    "bm_df.insert(len(bm_df.columns), ('Biometrics', 'TimeSeries'), bm_tms)"
   ]
  },
  {
   "cell_type": "code",
   "execution_count": 20,
   "metadata": {},
   "outputs": [],
   "source": [
    "ex_tms = ex_df.apply(create_ex_timeseries, axis=1)\n",
    "ex_df.insert(len(ex_df.columns), ('Exercise', 'TimeSeries'), ex_tms)"
   ]
  },
  {
   "cell_type": "markdown",
   "metadata": {},
   "source": [
    "Create dataframe with all necessary timeseries"
   ]
  },
  {
   "cell_type": "code",
   "execution_count": 21,
   "metadata": {},
   "outputs": [],
   "source": [
    "train_df = bm_df.loc[:, [('CloudId', ''), ('Gender', ''), ('Age', ''), ('Biometrics', 'Name'), ('Biometrics', 'TimeSeries')]]\n",
    "train_df.columns = ['CloudId', 'Gender', 'Age', 'Biometric', 'BiometricTimeSeries']"
   ]
  },
  {
   "cell_type": "code",
   "execution_count": 22,
   "metadata": {},
   "outputs": [],
   "source": [
    "ex_df_stripped = ex_df.loc[:, [('CloudId', ''), ('Exercise', 'TimeSeries')]]\n",
    "ex_df_stripped.columns = ['CloudId', 'ExercisesTimeSeries']"
   ]
  },
  {
   "cell_type": "code",
   "execution_count": 23,
   "metadata": {},
   "outputs": [],
   "source": [
    "train_df = train_df.merge(ex_df_stripped, on='CloudId')"
   ]
  },
  {
   "cell_type": "code",
   "execution_count": 24,
   "metadata": {},
   "outputs": [],
   "source": [
    "train_df.to_pickle('timeseries_dataset.pkl')"
   ]
  },
  {
   "cell_type": "markdown",
   "metadata": {},
   "source": [
    "Set up data normalization pipeline"
   ]
  },
  {
   "cell_type": "markdown",
   "metadata": {},
   "source": [
    "## Fit Model"
   ]
  },
  {
   "cell_type": "code",
   "execution_count": 195,
   "metadata": {},
   "outputs": [],
   "source": [
    "train_df = pd.read_pickle('timeseries_dataset.pkl')"
   ]
  },
  {
   "cell_type": "code",
   "execution_count": 196,
   "metadata": {},
   "outputs": [],
   "source": [
    "target_bm = 'Weight'\n",
    "\n",
    "train_set = train_df[train_df.Biometric == target_bm]\n",
    "exercises_timeseries = train_set.ExercisesTimeSeries.tolist()\n",
    "biometric_timeseries = train_set.BiometricTimeSeries.tolist()"
   ]
  },
  {
   "cell_type": "code",
   "execution_count": 197,
   "metadata": {},
   "outputs": [],
   "source": [
    "interesected_exercises_timeseries = [x.slice_intersect(y) for x,y in zip(exercises_timeseries, biometric_timeseries)]\n",
    "interesected_biometrics_timeseries = [x.slice_intersect(y) for x,y in zip(biometric_timeseries, exercises_timeseries)]"
   ]
  },
  {
   "cell_type": "code",
   "execution_count": 198,
   "metadata": {},
   "outputs": [],
   "source": [
    "mask = [len(ts) >= 24 for ts in interesected_exercises_timeseries]\n",
    "\n",
    "masked_exercises_timeseries = [ts for ts, m in zip(interesected_exercises_timeseries, mask) if m]\n",
    "masked_biometrics_timeseries = [ts for ts, m in zip(interesected_biometrics_timeseries, mask) if m]"
   ]
  },
  {
   "cell_type": "code",
   "execution_count": 199,
   "metadata": {},
   "outputs": [],
   "source": [
    "def pad_timeseries(ts, pad_length):\n",
    "    pad_values = pd.DataFrame(np.tile(ts.last_values(), (pad_length,1)))\n",
    "    return ts.append_values(pad_values) "
   ]
  },
  {
   "cell_type": "code",
   "execution_count": 200,
   "metadata": {},
   "outputs": [],
   "source": [
    "pad_length = 50\n",
    "exercise_timeseries_padded = [pad_timeseries(ts, pad_length) for ts in masked_exercises_timeseries]"
   ]
  },
  {
   "cell_type": "code",
   "execution_count": 201,
   "metadata": {},
   "outputs": [],
   "source": [
    "# Pipeline for biometrics\n",
    "static_cov_transformer = StaticCovariatesTransformer(name=\"Encoder\")\n",
    "log_transformer = InvertibleMapper(np.log1p, np.expm1, verbose=False, n_jobs=-1, name=\"Log-Transform\")   \n",
    "train_scaler = Scaler(verbose=False, n_jobs=-1, name=\"Scaling\")\n",
    "preprocess_pipeline = Pipeline([static_cov_transformer, log_transformer])\n",
    "\n",
    "# Pipeline for exercise\n",
    "exercise_scaler = Scaler(verbose=False, n_jobs=-1, name=\"Scaling\")"
   ]
  },
  {
   "cell_type": "code",
   "execution_count": 202,
   "metadata": {},
   "outputs": [],
   "source": [
    "target = preprocess_pipeline.fit_transform(masked_biometrics_timeseries)\n",
    "pickle.dump(target, open('target.pkl', 'wb'))"
   ]
  },
  {
   "cell_type": "code",
   "execution_count": 203,
   "metadata": {},
   "outputs": [],
   "source": [
    "past_cov = exercise_scaler.fit_transform(exercise_timeseries_padded)\n",
    "pickle.dump(past_cov, open('past_cov.pkl', 'wb'))"
   ]
  },
  {
   "cell_type": "code",
   "execution_count": 204,
   "metadata": {},
   "outputs": [
    {
     "data": {
      "text/plain": [
       "RegressionModel(lags=3, lags_past_covariates=3, lags_future_covariates=None, output_chunk_length=21, output_chunk_shift=0, add_encoders=None, model=Ridge(), multi_models=True, use_static_covariates=True)"
      ]
     },
     "execution_count": 204,
     "metadata": {},
     "output_type": "execute_result"
    }
   ],
   "source": [
    "model = RegressionModel(\n",
    "    model=Ridge(),\n",
    "    lags=3,\n",
    "    lags_past_covariates=3,\n",
    "    output_chunk_length=21\n",
    ")\n",
    "model.fit(series=target, past_covariates=past_cov)"
   ]
  },
  {
   "cell_type": "code",
   "execution_count": 205,
   "metadata": {},
   "outputs": [],
   "source": [
    "preds = model.predict(12, target, past_cov)\n",
    "unnorm_preds = preprocess_pipeline.inverse_transform(preds, partial=True)"
   ]
  },
  {
   "cell_type": "code",
   "execution_count": 206,
   "metadata": {},
   "outputs": [
    {
     "data": {
      "image/png": "[encoded data removed]",
      "text/plain": [
       "<Figure size 640x480 with 1 Axes>"
      ]
     },
     "metadata": {},
     "output_type": "display_data"
    }
   ],
   "source": [
    "i = np.random.randint(0, len(target))\n",
    "masked_biometrics_timeseries[i].plot(label='past')\n",
    "unnorm_preds[i].plot(label='forecast', lw=3)\n",
    "plt.legend()\n",
    "plt.show()"
   ]
  },
  {
   "cell_type": "markdown",
   "metadata": {},
   "source": [
    "Save model and data preprocessor"
   ]
  },
  {
   "cell_type": "code",
   "execution_count": 207,
   "metadata": {},
   "outputs": [],
   "source": [
    "model.save(\"weight_model.pkl\")"
   ]
  },
  {
   "cell_type": "code",
   "execution_count": 208,
   "metadata": {},
   "outputs": [],
   "source": [
    "pickle.dump(preprocess_pipeline, open('weight_preprocessor.pkl', 'wb'))"
   ]
  },
  {
   "cell_type": "code",
   "execution_count": 209,
   "metadata": {},
   "outputs": [],
   "source": [
    "pickle.dump(exercise_scaler, open('weight_scaler.pkl', 'wb'))"
   ]
  },
  {
   "cell_type": "markdown",
   "metadata": {},
   "source": [
    "# Explainability"
   ]
  },
  {
   "cell_type": "code",
   "execution_count": 210,
   "metadata": {},
   "outputs": [],
   "source": [
    "from darts.explainability.shap_explainer import ShapExplainer"
   ]
  },
  {
   "cell_type": "code",
   "execution_count": 211,
   "metadata": {},
   "outputs": [],
   "source": [
    "shap_explainer = ShapExplainer(model, target, past_cov)"
   ]
  },
  {
   "cell_type": "code",
   "execution_count": 212,
   "metadata": {},
   "outputs": [],
   "source": [
    "WEEKS_PER_MONTH = 4.2"
   ]
  },
  {
   "cell_type": "code",
   "execution_count": 303,
   "metadata": {},
   "outputs": [],
   "source": [
    "horizons = [int(np.ceil(WEEKS_PER_MONTH * i)) for i in range(1, 6)]"
   ]
  },
  {
   "cell_type": "code",
   "execution_count": 319,
   "metadata": {},
   "outputs": [],
   "source": [
    "def get_shap_values(shap_explainer, target, past_cov, horizons):\n",
    "    \n",
    "    explainability_res = shap_explainer.explain(target, past_cov,  horizons=horizons)\n",
    "    comp_list = explainability_res.get_feature_values(horizons[0]).components.to_list()\n",
    "    drop_comp_list = set([x for x in comp_list if any([x.startswith(y) for y in explainability_res.available_components])])\n",
    "\n",
    "    importances_df = pd.DataFrame([])\n",
    "    for horizon in horizons:\n",
    "        if len(importances_df) == 0:\n",
    "            importances_df = explainability_res.get_explanation(horizon).pd_dataframe().iloc[-1].T\n",
    "        else:\n",
    "            importances_df = pd.concat([importances_df, explainability_res.get_explanation(horizon).pd_dataframe().iloc[-1]], axis=1)\n",
    "            \n",
    "    importances_df.columns = horizons\n",
    "\n",
    "    if isinstance(importances_df, pd.Series):\n",
    "        importances_df = importances_df.to_frame()\n",
    "        importances_df.columns = [horizons[0]]\n",
    "    importances_df.reset_index(inplace=True)\n",
    "    importances_df = importances_df[~importances_df['component'].isin(drop_comp_list)]\n",
    "\n",
    "    importances_df = importances_df.T\n",
    "    importances_df.columns = importances_df.iloc[0]\n",
    "    importances_df = importances_df.drop(importances_df.index[0])\n",
    "    importances_df.columns.name = 'Horizon'\n",
    "\n",
    "    lag_columns = [col for col in importances_df.columns if 'lag-' in col]\n",
    "    prefixes = set(col.rsplit('_', 1)[0] for col in lag_columns)\n",
    "\n",
    "    for prefix in prefixes:\n",
    "        lag_cols = [col for col in lag_columns if col.startswith(prefix)]\n",
    "        importances_df[f'{prefix}'] = importances_df[lag_cols].mean(axis=1)\n",
    "        \n",
    "    importances_df = importances_df.drop(columns=lag_columns)\n",
    "    return importances_df"
   ]
  },
  {
   "cell_type": "code",
   "execution_count": 321,
   "metadata": {},
   "outputs": [],
   "source": [
    "%%capture\n",
    "importances_df = get_shap_values(shap_explainer, target[0], past_cov[0], horizons)"
   ]
  },
  {
   "cell_type": "code",
   "execution_count": 322,
   "metadata": {},
   "outputs": [
    {
     "data": {
      "text/plain": [
       "{'Gender_statcov_target_Weight': {5: -0.00020518779754637637,\n",
       "  9: -0.0003621368855237043,\n",
       "  13: -0.000874854400753855,\n",
       "  17: -0.0018629792332648016,\n",
       "  21: -0.0029905840754509416},\n",
       " 'Age_statcov_target_Weight': {5: 8.248949874541574e-05,\n",
       "  9: 0.0004236141881684974,\n",
       "  13: 0.000831257134639977,\n",
       "  17: 0.0012102274228464511,\n",
       "  21: 0.00146166822785961},\n",
       " 'avg_cardio_workouts_pastcov': {5: 0.0002550502181402317,\n",
       "  9: 0.00046180982215829027,\n",
       "  13: 0.0006906463620146697,\n",
       "  17: 0.0007973137922115711,\n",
       "  21: 0.0008509604004261546},\n",
       " 'cardio_minutes_week_pastcov': {5: 0.00014954988213285636,\n",
       "  9: -0.0007071200886091811,\n",
       "  13: -0.0013672042513559962,\n",
       "  17: -0.000677391161037254,\n",
       "  21: -0.001015928853611804},\n",
       " 'avg_calories_per_workout_pastcov': {5: -0.0005582155114234076,\n",
       "  9: -0.001270982371543451,\n",
       "  13: -0.0018061596886555324,\n",
       "  17: -0.0016726820065734573,\n",
       "  21: -0.0010200620458762847},\n",
       " 'total_minutes_week_pastcov': {5: 0.00041803567448426036,\n",
       "  9: 0.000912578088668872,\n",
       "  13: 0.0012191510656612465,\n",
       "  17: 0.0005302109509465314,\n",
       "  21: 0.00011533272195806011},\n",
       " 'cardio_calories_week_pastcov': {5: -0.0005721239502512773,\n",
       "  9: -0.00014060959673155448,\n",
       "  13: 0.00016296480140623153,\n",
       "  17: -0.0005596718615159781,\n",
       "  21: -3.095631803624106e-05},\n",
       " 'avg_metsmin_workout_pastcov': {5: 5.279890813312015e-06,\n",
       "  9: 0.00025252375606525196,\n",
       "  13: 0.0008295379778994564,\n",
       "  17: 0.0007165299571276268,\n",
       "  21: 0.0007712362396428263},\n",
       " 'isotonic_calories_week_pastcov': {5: -0.00031670036004719887,\n",
       "  9: -0.0002809179062197082,\n",
       "  13: -0.00020655040029139552,\n",
       "  17: -8.879745379265628e-05,\n",
       "  21: 7.296589858695066e-05},\n",
       " 'avg_duration_per_workout_pastcov': {5: 0.0008023093635810306,\n",
       "  9: 0.001186153339199124,\n",
       "  13: 0.0013908442740315035,\n",
       "  17: 0.0011462667651192958,\n",
       "  21: 0.00028424391475887243},\n",
       " 'avg_isotonic_workouts_pastcov': {5: -5.014759200646276e-05,\n",
       "  9: -4.730187119507247e-05,\n",
       "  13: -2.1471501980310467e-05,\n",
       "  17: 0.00015491729745746124,\n",
       "  21: 5.632485852133691e-05},\n",
       " 'total_calories_week_pastcov': {5: 0.00012669335932052265,\n",
       "  9: -0.00013612235400471838,\n",
       "  13: -0.00030824729794397417,\n",
       "  17: 0.00022708507197986993,\n",
       "  21: 0.00042211352076522896},\n",
       " 'isotonic_minutes_week_pastcov': {5: 0.0003203652126120159,\n",
       "  9: 0.00037314248718684563,\n",
       "  13: 0.0003470909671532407,\n",
       "  17: 0.00019533806089073243,\n",
       "  21: 0.00016289145617537977}}"
      ]
     },
     "execution_count": 322,
     "metadata": {},
     "output_type": "execute_result"
    }
   ],
   "source": [
    "importances_df.to_dict()"
   ]
  },
  {
   "cell_type": "code",
   "execution_count": 310,
   "metadata": {},
   "outputs": [
    {
     "data": {
      "text/plain": [
       "Index([5, 9, 13, 17, 21], dtype='object')"
      ]
     },
     "execution_count": 310,
     "metadata": {},
     "output_type": "execute_result"
    }
   ],
   "source": [
    "importances_df"
   ]
  },
  {
   "cell_type": "code",
   "execution_count": 308,
   "metadata": {},
   "outputs": [
    {
     "data": {
      "text/plain": [
       "{'Gender_statcov_target_Weight': {5: -0.00020518779754633934,\n",
       "  9: -0.0003621368855237413,\n",
       "  13: -0.000874854400753892,\n",
       "  17: -0.0018629792332649127,\n",
       "  21: -0.0029905840754508675},\n",
       " 'Age_statcov_target_Weight': {5: 8.248949874511968e-05,\n",
       "  9: 0.0004236141881686084,\n",
       "  13: 0.0008312571346386818,\n",
       "  17: 0.001210227422845082,\n",
       "  21: 0.00146166822785924},\n",
       " 'avg_cardio_workouts_pastcov': {5: 0.000255050218993364,\n",
       "  9: 0.00046180982476355203,\n",
       "  13: 0.0006906463655469553,\n",
       "  17: 0.000797313795244133,\n",
       "  21: 0.0008509604015413982},\n",
       " 'cardio_minutes_week_pastcov': {5: 0.00014954988213276998,\n",
       "  9: -0.000707120088609983,\n",
       "  13: -0.0013672042513563538,\n",
       "  17: -0.0006773911610369702,\n",
       "  21: -0.0010159288536117177},\n",
       " 'avg_calories_per_workout_pastcov': {5: -0.000558215511404546,\n",
       "  9: -0.0012709823715768812,\n",
       "  13: -0.0018061596887164715,\n",
       "  17: -0.0016726820066113774,\n",
       "  21: -0.0010200620460076735},\n",
       " 'total_minutes_week_pastcov': {5: 0.00041803567404895427,\n",
       "  9: 0.0009125780873829622,\n",
       "  13: 0.0012191510639260295,\n",
       "  17: 0.0005302109494498399,\n",
       "  21: 0.0001153327214659846},\n",
       " 'cardio_calories_week_pastcov': {5: -0.0005721239519959187,\n",
       "  9: -0.0001406096018741692,\n",
       "  13: 0.00016296479446241562,\n",
       "  17: -0.0005596718675045829,\n",
       "  21: -3.095632000301348e-05},\n",
       " 'avg_metsmin_workout_pastcov': {5: 5.279890822452847e-06,\n",
       "  9: 0.00025252375604870964,\n",
       "  13: 0.0008295379778698505,\n",
       "  17: 0.0007165299571079142,\n",
       "  21: 0.0007712362395770148},\n",
       " 'isotonic_calories_week_pastcov': {5: -0.0003167003591751063,\n",
       "  9: -0.00028091790364707475,\n",
       "  13: -0.0002065503968198268,\n",
       "  17: -8.879745079806404e-05,\n",
       "  21: 7.296589957054657e-05},\n",
       " 'avg_duration_per_workout_pastcov': {5: 0.0008023093635715443,\n",
       "  9: 0.0011861533392152838,\n",
       "  13: 0.0013908442740623924,\n",
       "  17: 0.0011462667651380585,\n",
       "  21: 0.000284243914824869},\n",
       " 'avg_isotonic_workouts_pastcov': {5: -5.014759200626539e-05,\n",
       "  9: -4.730187119540553e-05,\n",
       "  13: -2.1471501980717547e-05,\n",
       "  17: 0.0001549172974573379,\n",
       "  21: 5.63248585212876e-05},\n",
       " 'total_calories_week_pastcov': {5: 0.00012669335932958948,\n",
       "  9: -0.00013612235402148278,\n",
       "  13: -0.000308247297974456,\n",
       "  17: 0.00022708507196095914,\n",
       "  21: 0.00042211352069924474},\n",
       " 'isotonic_minutes_week_pastcov': {5: 0.00032036521086776913,\n",
       "  9: 0.00037314248204362645,\n",
       "  13: 0.0003470909602096345,\n",
       "  17: 0.00019533805490223877,\n",
       "  21: 0.00016289145420910077}}"
      ]
     },
     "execution_count": 308,
     "metadata": {},
     "output_type": "execute_result"
    }
   ],
   "source": [
    "importances_df.set_index('Feature')['SHAP Value'].to_dict()"
   ]
  },
  {
   "cell_type": "code",
   "execution_count": 285,
   "metadata": {},
   "outputs": [],
   "source": [
    "importances_df = importances_df.T.reset_index()\n",
    "importances_df.columns = ['Feature', 'SHAP Value']"
   ]
  },
  {
   "cell_type": "code",
   "execution_count": 290,
   "metadata": {},
   "outputs": [],
   "source": [
    "importances_df.columns = ['Feature', 'SHAP Value']"
   ]
  },
  {
   "cell_type": "code",
   "execution_count": 295,
   "metadata": {},
   "outputs": [
    {
     "data": {
      "text/html": [
       "<div>\n",
       "<style scoped>\n",
       "    .dataframe tbody tr th:only-of-type {\n",
       "        vertical-align: middle;\n",
       "    }\n",
       "\n",
       "    .dataframe tbody tr th {\n",
       "        vertical-align: top;\n",
       "    }\n",
       "\n",
       "    .dataframe thead th {\n",
       "        text-align: right;\n",
       "    }\n",
       "</style>\n",
       "<table border=\"1\" class=\"dataframe\">\n",
       "  <thead>\n",
       "    <tr style=\"text-align: right;\">\n",
       "      <th></th>\n",
       "      <th>Feature</th>\n",
       "      <th>SHAP Value</th>\n",
       "    </tr>\n",
       "  </thead>\n",
       "  <tbody>\n",
       "    <tr>\n",
       "      <th>0</th>\n",
       "      <td>Age_statcov_target_Weight</td>\n",
       "      <td>0.00121</td>\n",
       "    </tr>\n",
       "    <tr>\n",
       "      <th>1</th>\n",
       "      <td>avg_duration_per_workout_pastcov</td>\n",
       "      <td>0.001146</td>\n",
       "    </tr>\n",
       "    <tr>\n",
       "      <th>2</th>\n",
       "      <td>avg_cardio_workouts_pastcov</td>\n",
       "      <td>0.000797</td>\n",
       "    </tr>\n",
       "    <tr>\n",
       "      <th>3</th>\n",
       "      <td>avg_metsmin_workout_pastcov</td>\n",
       "      <td>0.000717</td>\n",
       "    </tr>\n",
       "    <tr>\n",
       "      <th>4</th>\n",
       "      <td>total_minutes_week_pastcov</td>\n",
       "      <td>0.00053</td>\n",
       "    </tr>\n",
       "    <tr>\n",
       "      <th>5</th>\n",
       "      <td>total_calories_week_pastcov</td>\n",
       "      <td>0.000227</td>\n",
       "    </tr>\n",
       "    <tr>\n",
       "      <th>6</th>\n",
       "      <td>isotonic_minutes_week_pastcov</td>\n",
       "      <td>0.000195</td>\n",
       "    </tr>\n",
       "    <tr>\n",
       "      <th>7</th>\n",
       "      <td>avg_isotonic_workouts_pastcov</td>\n",
       "      <td>0.000155</td>\n",
       "    </tr>\n",
       "    <tr>\n",
       "      <th>8</th>\n",
       "      <td>isotonic_calories_week_pastcov</td>\n",
       "      <td>-0.000089</td>\n",
       "    </tr>\n",
       "    <tr>\n",
       "      <th>9</th>\n",
       "      <td>cardio_calories_week_pastcov</td>\n",
       "      <td>-0.00056</td>\n",
       "    </tr>\n",
       "    <tr>\n",
       "      <th>10</th>\n",
       "      <td>cardio_minutes_week_pastcov</td>\n",
       "      <td>-0.000677</td>\n",
       "    </tr>\n",
       "    <tr>\n",
       "      <th>11</th>\n",
       "      <td>avg_calories_per_workout_pastcov</td>\n",
       "      <td>-0.001673</td>\n",
       "    </tr>\n",
       "    <tr>\n",
       "      <th>12</th>\n",
       "      <td>Gender_statcov_target_Weight</td>\n",
       "      <td>-0.001863</td>\n",
       "    </tr>\n",
       "  </tbody>\n",
       "</table>\n",
       "</div>"
      ],
      "text/plain": [
       "                             Feature SHAP Value\n",
       "0          Age_statcov_target_Weight    0.00121\n",
       "1   avg_duration_per_workout_pastcov   0.001146\n",
       "2        avg_cardio_workouts_pastcov   0.000797\n",
       "3        avg_metsmin_workout_pastcov   0.000717\n",
       "4         total_minutes_week_pastcov    0.00053\n",
       "5        total_calories_week_pastcov   0.000227\n",
       "6      isotonic_minutes_week_pastcov   0.000195\n",
       "7      avg_isotonic_workouts_pastcov   0.000155\n",
       "8     isotonic_calories_week_pastcov  -0.000089\n",
       "9       cardio_calories_week_pastcov   -0.00056\n",
       "10       cardio_minutes_week_pastcov  -0.000677\n",
       "11  avg_calories_per_workout_pastcov  -0.001673\n",
       "12      Gender_statcov_target_Weight  -0.001863"
      ]
     },
     "execution_count": 295,
     "metadata": {},
     "output_type": "execute_result"
    }
   ],
   "source": [
    "importances_df.sort_values('SHAP Value', ascending=False).reset_index(drop=True)"
   ]
  },
  {
   "cell_type": "code",
   "execution_count": 296,
   "metadata": {},
   "outputs": [],
   "source": [
    "# convert to a dictionary with keys in column 'Feature' and values in column 'SHAP Value'\n",
    "importances_dict = importances_df.set_index('Feature')['SHAP Value'].to_dict()"
   ]
  },
  {
   "cell_type": "code",
   "execution_count": 297,
   "metadata": {},
   "outputs": [
    {
     "data": {
      "text/plain": [
       "{'Age_statcov_target_Weight': 0.0012102274228464143,\n",
       " 'avg_duration_per_workout_pastcov': 0.0011462667651565006,\n",
       " 'avg_cardio_workouts_pastcov': 0.0007973137952241613,\n",
       " 'avg_metsmin_workout_pastcov': 0.00071652996010205,\n",
       " 'total_minutes_week_pastcov': 0.0005302109509473209,\n",
       " 'total_calories_week_pastcov': 0.0002270850779499339,\n",
       " 'isotonic_minutes_week_pastcov': 0.0001953380578777475,\n",
       " 'avg_isotonic_workouts_pastcov': 0.0001549172974570665,\n",
       " 'isotonic_calories_week_pastcov': -8.87974537921505e-05,\n",
       " 'cardio_calories_week_pastcov': -0.0005596718674667243,\n",
       " 'cardio_minutes_week_pastcov': -0.0006773911610370072,\n",
       " 'avg_calories_per_workout_pastcov': -0.0016726820096053527,\n",
       " 'Gender_statcov_target_Weight': -0.0018629792332076993}"
      ]
     },
     "execution_count": 297,
     "metadata": {},
     "output_type": "execute_result"
    }
   ],
   "source": [
    "importances_dict"
   ]
  },
  {
   "cell_type": "markdown",
   "metadata": {},
   "source": [
    "# Inference"
   ]
  },
  {
   "cell_type": "code",
   "execution_count": 6,
   "metadata": {},
   "outputs": [],
   "source": [
    "model = RegressionModel.load(\"weight_model.pkl\")\n",
    "preprocess_pipeline = pickle.load(open('weight_preprocessor.pkl', 'rb'))\n",
    "scaler = pickle.load(open('weight_scaler.pkl', 'rb'))"
   ]
  },
  {
   "cell_type": "code",
   "execution_count": 90,
   "metadata": {},
   "outputs": [],
   "source": [
    "def create_bm_timeseries(row):\n",
    "    times = pd.Index(row[('Biometrics', 'Week')])\n",
    "    values = row[('Biometrics', 'Value')]\n",
    "    covs = pd.DataFrame(data={ 'Gender': [row[('Gender', '')]], 'Age': [row[('Age', '')]] })\n",
    "    ts = TimeSeries.from_times_and_values(times=times, values=values, columns=[row[('Biometrics', 'Name')]], static_covariates=covs, freq=1)\n",
    "    filled_ts = darts_fill_na(ts, fill='auto').astype(np.float32)\n",
    "    return filled_ts\n",
    "\n",
    "def create_ex_timeseries(row):\n",
    "    times = pd.Index(row[('Exercise', 'Week')])\n",
    "    agg_ts = None\n",
    "    for col in ex_df['Exercise'].columns:\n",
    "        if col == 'Week':\n",
    "            continue\n",
    "        values = row[('Exercise', col)]\n",
    "        ts = TimeSeries.from_times_and_values(times=times, values=values, columns=[col], freq=1)\n",
    "        ts = darts_fill_na(ts, fill=0.).astype(np.float32)\n",
    "        if agg_ts is None:\n",
    "            agg_ts = ts\n",
    "        else:\n",
    "            agg_ts = agg_ts.stack(ts)\n",
    "    return agg_ts"
   ]
  },
  {
   "cell_type": "code",
   "execution_count": 91,
   "metadata": {},
   "outputs": [],
   "source": [
    "ts_df = pd.read_pickle('processed_dataset.pkl')\n",
    "ex_df = ts_df[['CloudId', 'Exercise']].drop_duplicates(subset=('CloudId', ''))\n",
    "bm_df = ts_df[['CloudId', 'Gender', 'Age', 'Biometrics']]\n",
    "\n",
    "cloud_ids = np.intersect1d(ex_df.CloudId.unique(), bm_df.CloudId.unique())"
   ]
  },
  {
   "cell_type": "code",
   "execution_count": null,
   "metadata": {},
   "outputs": [],
   "source": [
    "# Use samples from the dataset\n",
    "weeks = sliced_train_set[i].time_index\n",
    "values = sliced_train_set[i].values()\n",
    "covs = sliced_train_set[i].static_covariates\n",
    "\n",
    "# # Use your own values\n",
    "# weeks = pd.Index([0,4,10,16,21,24,26])\n",
    "# values = [82, 84, 85, 82, 84, 86, 87][::-1]\n",
    "# covs = pd.DataFrame(data={'Gender': ['M'], 'Age': [30]})"
   ]
  },
  {
   "cell_type": "code",
   "execution_count": null,
   "metadata": {},
   "outputs": [],
   "source": [
    "ts = TimeSeries.from_times_and_values(times=weeks, values=values, static_covariates=covs, freq=1)\n",
    "filled_ts = darts_fill_na(ts, fill='auto').astype(np.float32)\n",
    "\n",
    "trans_ts = preprocess_pipeline.transform(filled_ts)\n",
    "pred = model.predict(24, [trans_ts])\n",
    "unnorm_pred = preprocess_pipeline.inverse_transform(pred)[0]\n",
    "\n",
    "filled_ts.plot(label='past data')\n",
    "unnorm_pred.plot(label='forecast', lw=3)\n",
    "plt.xlabel('Week')\n",
    "plt.ylabel('Weight')\n",
    "plt.show()"
   ]
  },
  {
   "cell_type": "markdown",
   "metadata": {},
   "source": [
    "# Get a user's data"
   ]
  },
  {
   "cell_type": "code",
   "execution_count": 109,
   "metadata": {},
   "outputs": [],
   "source": [
    "processed_dataset = pd.read_pickle('processed_dataset.pkl')\n",
    "valid_cloud_ids = processed_biometrics.CloudId.unique()"
   ]
  },
  {
   "cell_type": "code",
   "execution_count": 110,
   "metadata": {},
   "outputs": [],
   "source": [
    "ex_df = processed_dataset[['CloudId', 'Exercise']].drop_duplicates(subset=('CloudId', ''))\n",
    "bm_df = processed_dataset[['CloudId', 'Gender', 'Age', 'Biometrics']]"
   ]
  },
  {
   "cell_type": "code",
   "execution_count": 105,
   "metadata": {},
   "outputs": [],
   "source": [
    "targets = ['Weight', 'Fat mass Perc', 'Muscle Mass', 'HR at Rest']"
   ]
  },
  {
   "cell_type": "code",
   "execution_count": 127,
   "metadata": {},
   "outputs": [],
   "source": [
    "i = np.random.randint(0, len(valid_cloud_ids))\n",
    "cloud_id = valid_cloud_ids[i]"
   ]
  },
  {
   "cell_type": "code",
   "execution_count": 128,
   "metadata": {},
   "outputs": [
    {
     "data": {
      "text/html": [
       "<div>\n",
       "<style scoped>\n",
       "    .dataframe tbody tr th:only-of-type {\n",
       "        vertical-align: middle;\n",
       "    }\n",
       "\n",
       "    .dataframe tbody tr th {\n",
       "        vertical-align: top;\n",
       "    }\n",
       "\n",
       "    .dataframe thead tr th {\n",
       "        text-align: left;\n",
       "    }\n",
       "</style>\n",
       "<table border=\"1\" class=\"dataframe\">\n",
       "  <thead>\n",
       "    <tr>\n",
       "      <th></th>\n",
       "      <th>CloudId</th>\n",
       "      <th>Gender</th>\n",
       "      <th>Age</th>\n",
       "      <th colspan=\"3\" halign=\"left\">Biometrics</th>\n",
       "    </tr>\n",
       "    <tr>\n",
       "      <th></th>\n",
       "      <th></th>\n",
       "      <th></th>\n",
       "      <th></th>\n",
       "      <th>Name</th>\n",
       "      <th>Week</th>\n",
       "      <th>Value</th>\n",
       "    </tr>\n",
       "  </thead>\n",
       "  <tbody>\n",
       "    <tr>\n",
       "      <th>15305</th>\n",
       "      <td>cf34daf8525b43b65036f3db587fd2fce61eb8a2</td>\n",
       "      <td>F</td>\n",
       "      <td>58</td>\n",
       "      <td>Fat mass Perc</td>\n",
       "      <td>[20, 25, 34, 46]</td>\n",
       "      <td>[35.5, 35.9, 34.4, 33.3]</td>\n",
       "    </tr>\n",
       "    <tr>\n",
       "      <th>15319</th>\n",
       "      <td>cf34daf8525b43b65036f3db587fd2fce61eb8a2</td>\n",
       "      <td>F</td>\n",
       "      <td>58</td>\n",
       "      <td>Muscle Mass</td>\n",
       "      <td>[20, 25, 34, 46]</td>\n",
       "      <td>[41.3, 40.9, 42.0, 43.2]</td>\n",
       "    </tr>\n",
       "    <tr>\n",
       "      <th>15338</th>\n",
       "      <td>cf34daf8525b43b65036f3db587fd2fce61eb8a2</td>\n",
       "      <td>F</td>\n",
       "      <td>58</td>\n",
       "      <td>Weight</td>\n",
       "      <td>[20, 25, 34, 46]</td>\n",
       "      <td>[67.4, 67.2, 67.5, 68.2]</td>\n",
       "    </tr>\n",
       "  </tbody>\n",
       "</table>\n",
       "</div>"
      ],
      "text/plain": [
       "                                        CloudId Gender Age     Biometrics  \\\n",
       "                                                                     Name   \n",
       "15305  cf34daf8525b43b65036f3db587fd2fce61eb8a2      F  58  Fat mass Perc   \n",
       "15319  cf34daf8525b43b65036f3db587fd2fce61eb8a2      F  58    Muscle Mass   \n",
       "15338  cf34daf8525b43b65036f3db587fd2fce61eb8a2      F  58         Weight   \n",
       "\n",
       "                                                   \n",
       "                   Week                     Value  \n",
       "15305  [20, 25, 34, 46]  [35.5, 35.9, 34.4, 33.3]  \n",
       "15319  [20, 25, 34, 46]  [41.3, 40.9, 42.0, 43.2]  \n",
       "15338  [20, 25, 34, 46]  [67.4, 67.2, 67.5, 68.2]  "
      ]
     },
     "execution_count": 128,
     "metadata": {},
     "output_type": "execute_result"
    }
   ],
   "source": [
    "user_bms = bm_df[(bm_df.CloudId == cloud_id) & (bm_df[('Biometrics', 'Name')].isin(targets))]\n",
    "user_bms"
   ]
  },
  {
   "cell_type": "code",
   "execution_count": 129,
   "metadata": {},
   "outputs": [
    {
     "data": {
      "text/html": [
       "<div>\n",
       "<style scoped>\n",
       "    .dataframe tbody tr th:only-of-type {\n",
       "        vertical-align: middle;\n",
       "    }\n",
       "\n",
       "    .dataframe tbody tr th {\n",
       "        vertical-align: top;\n",
       "    }\n",
       "\n",
       "    .dataframe thead tr th {\n",
       "        text-align: left;\n",
       "    }\n",
       "</style>\n",
       "<table border=\"1\" class=\"dataframe\">\n",
       "  <thead>\n",
       "    <tr>\n",
       "      <th></th>\n",
       "      <th>CloudId</th>\n",
       "      <th colspan=\"12\" halign=\"left\">Exercise</th>\n",
       "    </tr>\n",
       "    <tr>\n",
       "      <th></th>\n",
       "      <th></th>\n",
       "      <th>Week</th>\n",
       "      <th>total_calories_week</th>\n",
       "      <th>total_minutes_week</th>\n",
       "      <th>cardio_calories_week</th>\n",
       "      <th>cardio_minutes_week</th>\n",
       "      <th>isotonic_calories_week</th>\n",
       "      <th>isotonic_minutes_week</th>\n",
       "      <th>avg_duration_per_workout</th>\n",
       "      <th>avg_calories_per_workout</th>\n",
       "      <th>avg_metsmin_workout</th>\n",
       "      <th>avg_isotonic_workouts</th>\n",
       "      <th>avg_cardio_workouts</th>\n",
       "    </tr>\n",
       "  </thead>\n",
       "  <tbody>\n",
       "    <tr>\n",
       "      <th>15296</th>\n",
       "      <td>cf34daf8525b43b65036f3db587fd2fce61eb8a2</td>\n",
       "      <td>[15, 16, 17, 18, 19, 20, 21, 22, 23, 24, 25, 2...</td>\n",
       "      <td>[911.0, 860.0, 1327.0, 1166.0, 1249.0, 1276.0,...</td>\n",
       "      <td>[5803, 6549, 8463, 7750, 7787, 7264, 6065, 516...</td>\n",
       "      <td>[911.0, 860.0, 1327.0, 1166.0, 1249.0, 1276.0,...</td>\n",
       "      <td>[5803.0, 6549.0, 8463.0, 7750.0, 7787.0, 7264....</td>\n",
       "      <td>[0.0, 0.0, 0.0, 0.0, 0.0, 0.0, 0.0, 0.0, 0.0, ...</td>\n",
       "      <td>[0.0, 0.0, 0.0, 0.0, 0.0, 0.0, 0.0, 0.0, 0.0, ...</td>\n",
       "      <td>[1934.3333333333333, 2183.0, 2115.75, 2583.333...</td>\n",
       "      <td>[303.6666666666667, 286.6666666666667, 331.75,...</td>\n",
       "      <td>[90.26666666666665, 188.1, 73.775, 181.9666666...</td>\n",
       "      <td>[0.0, 0.0, 0.0, 0.0, 0.0, 0.0, 0.0, 0.0, 0.0, ...</td>\n",
       "      <td>[5.0, 6.0, 6.0, 6.0, 5.0, 3.0, 3.0, 3.0, 7.0, ...</td>\n",
       "    </tr>\n",
       "  </tbody>\n",
       "</table>\n",
       "</div>"
      ],
      "text/plain": [
       "                                        CloudId  \\\n",
       "                                                  \n",
       "15296  cf34daf8525b43b65036f3db587fd2fce61eb8a2   \n",
       "\n",
       "                                                Exercise  \\\n",
       "                                                    Week   \n",
       "15296  [15, 16, 17, 18, 19, 20, 21, 22, 23, 24, 25, 2...   \n",
       "\n",
       "                                                          \\\n",
       "                                     total_calories_week   \n",
       "15296  [911.0, 860.0, 1327.0, 1166.0, 1249.0, 1276.0,...   \n",
       "\n",
       "                                                          \\\n",
       "                                      total_minutes_week   \n",
       "15296  [5803, 6549, 8463, 7750, 7787, 7264, 6065, 516...   \n",
       "\n",
       "                                                          \\\n",
       "                                    cardio_calories_week   \n",
       "15296  [911.0, 860.0, 1327.0, 1166.0, 1249.0, 1276.0,...   \n",
       "\n",
       "                                                          \\\n",
       "                                     cardio_minutes_week   \n",
       "15296  [5803.0, 6549.0, 8463.0, 7750.0, 7787.0, 7264....   \n",
       "\n",
       "                                                          \\\n",
       "                                  isotonic_calories_week   \n",
       "15296  [0.0, 0.0, 0.0, 0.0, 0.0, 0.0, 0.0, 0.0, 0.0, ...   \n",
       "\n",
       "                                                          \\\n",
       "                                   isotonic_minutes_week   \n",
       "15296  [0.0, 0.0, 0.0, 0.0, 0.0, 0.0, 0.0, 0.0, 0.0, ...   \n",
       "\n",
       "                                                          \\\n",
       "                                avg_duration_per_workout   \n",
       "15296  [1934.3333333333333, 2183.0, 2115.75, 2583.333...   \n",
       "\n",
       "                                                          \\\n",
       "                                avg_calories_per_workout   \n",
       "15296  [303.6666666666667, 286.6666666666667, 331.75,...   \n",
       "\n",
       "                                                          \\\n",
       "                                     avg_metsmin_workout   \n",
       "15296  [90.26666666666665, 188.1, 73.775, 181.9666666...   \n",
       "\n",
       "                                                          \\\n",
       "                                   avg_isotonic_workouts   \n",
       "15296  [0.0, 0.0, 0.0, 0.0, 0.0, 0.0, 0.0, 0.0, 0.0, ...   \n",
       "\n",
       "                                                          \n",
       "                                     avg_cardio_workouts  \n",
       "15296  [5.0, 6.0, 6.0, 6.0, 5.0, 3.0, 3.0, 3.0, 7.0, ...  "
      ]
     },
     "execution_count": 129,
     "metadata": {},
     "output_type": "execute_result"
    }
   ],
   "source": [
    "user_ex = ex_df[(ex_df.CloudId == cloud_id)]\n",
    "user_ex"
   ]
  },
  {
   "cell_type": "code",
   "execution_count": 131,
   "metadata": {},
   "outputs": [
    {
     "data": {
      "text/plain": [
       "'{\"Week\":[15,16,17,18,19,20,21,22,23,24,25,26,27,28,29,30,31,32,33,34,35,36,37,38,39,40,41,42,43,44,45,46,47,48,49,50,52],\"total_calories_week\":[911.0,860.0,1327.0,1166.0,1249.0,1276.0,1027.0,932.0,1797.0,1678.0,1727.0,1598.0,1652.0,1682.0,1553.0,1863.0,1869.0,1742.0,2421.0,1685.0,1564.0,2110.0,2101.0,1698.0,1303.0,1935.0,1510.0,1878.0,1400.0,1519.0,1372.0,1418.0,987.0,1191.0,1814.0,878.0,981.0],\"total_minutes_week\":[5803,6549,8463,7750,7787,7264,6065,5160,11040,9663,9544,9246,9848,9826,9249,10810,10512,9955,14142,10173,9152,11346,11944,10108,8030,11226,8228,10331,8592,9220,8974,9382,6534,8436,13343,6366,6645],\"cardio_calories_week\":[911.0,860.0,1327.0,1166.0,1249.0,1276.0,1027.0,932.0,1797.0,1678.0,1727.0,1598.0,1652.0,1682.0,1553.0,1863.0,1869.0,1742.0,2421.0,1685.0,1564.0,2110.0,2101.0,1698.0,1303.0,1935.0,1510.0,1878.0,1400.0,1508.0,1239.0,1176.0,856.0,956.0,1438.0,754.0,819.0],\"cardio_minutes_week\":[5803.0,6549.0,8463.0,7750.0,7787.0,7264.0,6065.0,5160.0,11040.0,9663.0,9544.0,9246.0,9848.0,9826.0,9249.0,10810.0,10512.0,9955.0,14142.0,10173.0,9152.0,11346.0,11944.0,10108.0,8030.0,11226.0,8228.0,10331.0,8592.0,9002.0,7324.0,6547.0,4749.0,5121.0,8357.0,4326.0,4381.0],\"isotonic_calories_week\":[0.0,0.0,0.0,0.0,0.0,0.0,0.0,0.0,0.0,0.0,0.0,0.0,0.0,0.0,0.0,0.0,0.0,0.0,0.0,0.0,0.0,0.0,0.0,0.0,0.0,0.0,0.0,0.0,0.0,11.0,133.0,242.0,131.0,235.0,376.0,124.0,162.0],\"isotonic_minutes_week\":[0.0,0.0,0.0,0.0,0.0,0.0,0.0,0.0,0.0,0.0,0.0,0.0,0.0,0.0,0.0,0.0,0.0,0.0,0.0,0.0,0.0,0.0,0.0,0.0,0.0,0.0,0.0,0.0,0.0,218.0,1650.0,2835.0,1785.0,3315.0,4986.0,2040.0,2264.0],\"avg_duration_per_workout\":[1934.3333333333,2183.0,2115.75,2583.3333333333,1946.75,2421.3333333333,3032.5,2580.0,2760.0,2415.75,2386.0,2311.5,2462.0,1637.6666666667,1849.8,2162.0,2102.4,1991.0,2828.4,2034.6,2288.0,2836.5,2986.0,2021.6,2007.5,2245.2,2057.0,2066.2,2148.0,2305.0,2243.5,2345.5,2178.0,2812.0,3335.75,2122.0,3322.5],\"avg_calories_per_workout\":[303.6666666667,286.6666666667,331.75,388.6666666667,312.25,425.3333333333,513.5,466.0,449.25,419.5,431.75,399.5,413.0,280.3333333333,310.6,372.6,373.8,348.4,484.2,337.0,391.0,527.5,525.25,339.6,325.75,387.0,377.5,375.6,350.0,379.75,343.0,354.5,329.0,397.0,453.5,292.6666666667,490.5],\"avg_metsmin_workout\":[90.2666666667,188.1,73.775,181.9666666667,73.35,9.3333333333,13.35,14.25,79.625,11.525,12.175,11.65,11.375,10.7666666667,11.0,13.22,11.48,65.44,77.12,14.22,85.075,12.25,11.7,63.8,10.875,9.82,9.9,9.78,79.05,152.2,16.225,21.75,22.0333333333,26.5333333333,97.5,17.2666666667,27.05],\"avg_isotonic_workouts\":[0.0,0.0,0.0,0.0,0.0,0.0,0.0,0.0,0.0,0.0,0.0,0.0,0.0,0.0,0.0,0.0,0.0,0.0,0.0,0.0,0.0,0.0,0.0,0.0,0.0,0.0,0.0,0.0,0.0,1.0,7.0,11.0,7.0,13.0,19.0,7.0,9.0],\"avg_cardio_workouts\":[5.0,6.0,6.0,6.0,5.0,3.0,3.0,3.0,7.0,5.0,5.0,5.0,5.0,7.0,6.0,8.0,6.0,7.0,10.0,8.0,6.0,5.0,5.0,7.0,5.0,6.0,4.0,5.0,6.0,9.0,4.0,4.0,4.0,3.0,6.0,3.0,2.0]}'"
      ]
     },
     "execution_count": 131,
     "metadata": {},
     "output_type": "execute_result"
    }
   ],
   "source": [
    "user_ex['Exercise'].iloc[0].to_json()"
   ]
  },
  {
   "cell_type": "code",
   "execution_count": 86,
   "metadata": {},
   "outputs": [],
   "source": [
    "user_gender = user_bms_filtered['Gender'].iloc[0]\n",
    "user_age = user_bms_filtered['Age'].iloc[0]\n",
    "\n",
    "biometric_data_list = user_bms_filtered.drop(['Gender', 'Age'], axis=1).to_dict(orient='records')"
   ]
  },
  {
   "cell_type": "code",
   "execution_count": 91,
   "metadata": {},
   "outputs": [
    {
     "data": {
      "text/plain": [
       "[{'BiometricName': 'Fat mass Perc',\n",
       "  'MeasuredOnWeek': [19, 39, 46, 50],\n",
       "  'Value': [40.2, 38.3, 40.6, 39.0]},\n",
       " {'BiometricName': 'Muscle Mass',\n",
       "  'MeasuredOnWeek': [19, 39, 46, 50],\n",
       "  'Value': [53.4, 54.9, 51.7, 53.3]},\n",
       " {'BiometricName': 'Weight',\n",
       "  'MeasuredOnWeek': [19, 39, 46, 50],\n",
       "  'Value': [94.0, 93.7, 91.7, 92.0]}]"
      ]
     },
     "execution_count": 91,
     "metadata": {},
     "output_type": "execute_result"
    }
   ],
   "source": [
    "biometric_data_list"
   ]
  }
 ],
 "metadata": {
  "kernelspec": {
   "display_name": "xai-data",
   "language": "python",
   "name": "python3"
  },
  "language_info": {
   "codemirror_mode": {
    "name": "ipython",
    "version": 3
   },
   "file_extension": ".py",
   "mimetype": "text/x-python",
   "name": "python",
   "nbconvert_exporter": "python",
   "pygments_lexer": "ipython3",
   "version": "3.10.14"
  }
 },
 "nbformat": 4,
 "nbformat_minor": 2
}
